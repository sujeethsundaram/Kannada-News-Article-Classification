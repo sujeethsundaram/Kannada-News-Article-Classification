{
 "cells": [
  {
   "cell_type": "code",
   "execution_count": null,
   "metadata": {
    "colab": {
     "base_uri": "https://localhost:8080/"
    },
    "id": "m-mpke9hWT3G",
    "outputId": "fae9f2a6-725b-4db8-9a2d-af3488e80ddf"
   },
   "outputs": [
    {
     "name": "stderr",
     "output_type": "stream",
     "text": [
      "/usr/local/lib/python3.10/dist-packages/torch_xla/__init__.py:253: UserWarning: `tensorflow` can conflict with `torch-xla`. Prefer `tensorflow-cpu` when using PyTorch/XLA. To silence this warning, `pip uninstall -y tensorflow && pip install tensorflow-cpu`. If you are in a notebook environment such as Colab or Kaggle, restart your notebook runtime afterwards.\n",
      "  warnings.warn(\n"
     ]
    }
   ],
   "source": [
    "import matplotlib.pyplot as plt\n",
    "import seaborn as sns\n",
    "import pandas as pd\n",
    "import re\n",
    "import torch\n",
    "import torch.nn as nn\n",
    "from sklearn.metrics import classification_report\n",
    "from transformers import DistilBertTokenizer, DistilBertModel\n",
    "from torch.utils.data import DataLoader, Dataset\n",
    "from tqdm import tqdm"
   ]
  },
  {
   "cell_type": "code",
   "execution_count": null,
   "metadata": {
    "id": "eLB2CEFkWTzj"
   },
   "outputs": [],
   "source": [
    "df_train = pd.read_csv('/content/news_train.csv')\n",
    "df_valid = pd.read_csv('/content/news_valid.csv')\n",
    "df_test = pd.read_csv('/content/news_test.csv')"
   ]
  },
  {
   "cell_type": "code",
   "execution_count": null,
   "metadata": {
    "colab": {
     "base_uri": "https://localhost:8080/"
    },
    "id": "_TqDIQqXWTw6",
    "outputId": "cad13958-aa55-40af-ae30-2e892fbf9cd3"
   },
   "outputs": [
    {
     "name": "stdout",
     "output_type": "stream",
     "text": [
      "<class 'pandas.core.frame.DataFrame'>\n",
      "RangeIndex: 29167 entries, 0 to 29166\n",
      "Data columns (total 2 columns):\n",
      " #   Column    Non-Null Count  Dtype \n",
      "---  ------    --------------  ----- \n",
      " 0   headline  29167 non-null  object\n",
      " 1   label     29167 non-null  object\n",
      "dtypes: object(2)\n",
      "memory usage: 455.9+ KB\n"
     ]
    }
   ],
   "source": [
    "df_train.info()"
   ]
  },
  {
   "cell_type": "code",
   "execution_count": null,
   "metadata": {
    "colab": {
     "base_uri": "https://localhost:8080/"
    },
    "id": "McJEu3KUQmqy",
    "outputId": "0f1955b9-6fb4-496b-bfcc-53a7e60213d4"
   },
   "outputs": [
    {
     "data": {
      "text/plain": [
       "6586"
      ]
     },
     "execution_count": 35,
     "metadata": {},
     "output_type": "execute_result"
    }
   ],
   "source": [
    "df_test.size"
   ]
  },
  {
   "cell_type": "code",
   "execution_count": null,
   "metadata": {
    "colab": {
     "base_uri": "https://localhost:8080/",
     "height": 206
    },
    "id": "OlXhH-g3WTum",
    "outputId": "8917724a-77aa-4fcb-9e3f-c5f13c37e396"
   },
   "outputs": [
    {
     "data": {
      "application/vnd.google.colaboratory.intrinsic+json": {
       "summary": "{\n  \"name\": \"df_train\",\n  \"rows\": 29167,\n  \"fields\": [\n    {\n      \"column\": \"headline\",\n      \"properties\": {\n        \"dtype\": \"string\",\n        \"num_unique_values\": 28773,\n        \"samples\": [\n          \"\\u0caa\\u0c9f\\u0cbe\\u0c95\\u0cbf \\u0cb8\\u0cc1\\u0c9f\\u0ccd\\u0c9f \\u0c97\\u0cbe\\u0caf\\u0c95\\u0ccd\\u0c95\\u0cc6 \\u0c87\\u0cb2\\u0ccd\\u0cb2\\u0cbf\\u0ca6\\u0cc6 \\u0cae\\u0ca8\\u0cc6 \\u0cae\\u0ca6\\u0ccd\\u0ca6\\u0cc1\\u2026!\\n\\u00a0 30-10-2018 3:30PM IST \\u00a0\\u00a0 /\\u00a0\\u00a0 \\u00a0 No Comments \\u00a0\\u00a0 /\\u00a0\\u00a0 \\u00a0 Posted In: Latest News , Health\\n\\u0ca6\\u0cc0\\u0caa\\u0cbe\\u0cb5\\u0cb3\\u0cbf \\u0cb9\\u0cac\\u0ccd\\u0cac\\u0ca6\\u0cb2\\u0ccd\\u0cb2\\u0cbf \\u0ca6\\u0cc0\\u0caa\\u0c97\\u0cb3 \\u0c9c\\u0cca\\u0ca4\\u0cc6 \\u0caa\\u0c9f\\u0cbe\\u0c95\\u0cbf \\u0c87\\u0cb0\\u0cb2\\u0cc7\\u0cac\\u0cc7\\u0c95\\u0cc1. \\u0cb8\\u0c82\\u0cad\\u0ccd\\u0cb0\\u0cae\\u0ca6 \\u0cb9\\u0cac\\u0ccd\\u0cac\\u0c95\\u0ccd\\u0c95\\u0cc6 \\u0cae\\u0ca4\\u0ccd\\u0ca4\\u0cb7\\u0ccd\\u0c9f\\u0cc1 \\u0cae\\u0cc6\\u0cb0\\u0c97\\u0cc1 \\u0ca8\\u0cc0\\u0ca1\\u0cc1\\u0cb5 \\u0caa\\u0c9f\\u0cbe\\u0c95\\u0cbf \\u0c86\\u0caa\\u0ca4\\u0ccd\\u0ca4\\u0cbf\\u0c97\\u0cc6 \\u0c95\\u0cbe\\u0cb0\\u0ca3\\u0cb5\\u0cbe\\u0c97\\u0cc1\\u0ca4\\u0ccd\\u0ca4\\u0ca6\\u0cc6. \\u0caa\\u0c9f\\u0cbe\\u0c95\\u0cbf \\u0cb8\\u0cbf\\u0ca1\\u0cbf\\u0cb8\\u0cc1\\u0cb5 \\u0cb5\\u0cc7\\u0cb3\\u0cc6 \\u0cae\\u0cbe\\u0ca1\\u0cc1\\u0cb5 \\u0ca4\\u0caa\\u0ccd\\u0caa\\u0cc1\\u0c97\\u0cb3\\u0cc1 \\u0c85\\u0ca8\\u0cc7\\u0c95\\u0cb0 \\u0cac\\u0cc6\\u0cb3\\u0c95\\u0ca8\\u0ccd\\u0ca8\\u0cc7 \\u0c95\\u0cbf\\u0ca4\\u0ccd\\u0ca4\\u0cc1\\u0c95\\u0cca\\u0c82\\u0ca1\\u0cbf\\u0ca6\\u0cc6. \\u0caa\\u0c9f\\u0cbe\\u0c95\\u0cbf \\u0cb9\\u0cca\\u0ca1\\u0cc6\\u0ca6\\u0cbe\\u0c97 \\u0c95\\u0cc8, \\u0cae\\u0cc8 \\u0cb8\\u0cc1\\u0c9f\\u0ccd\\u0c9f\\u0cb0\\u0cc6 \\u0ca4\\u0c95\\u0ccd\\u0cb7\\u0ca3 \\u0c95\\u0cc6\\u0cb2\\u0cb5\\u0cca\\u0c82\\u0ca6\\u0cc1 \\u0cae\\u0ca8\\u0cc6 \\u0cae\\u0ca6\\u0ccd\\u0ca6\\u0cc1 \\u0cae\\u0cbe\\u0ca1\\u0cac\\u0cc7\\u0c95\\u0cc1.\\n\\u0c86\\u0c95\\u0cb3 \\u0ca4\\u0cc1\\u0caa\\u0ccd\\u0caa \\u0c86\\u0cb0\\u0ccb\\u0c97\\u0ccd\\u0caf\\u0c95\\u0ccd\\u0c95\\u0cc6 \\u0cac\\u0cb9\\u0cb3 \\u0c92\\u0cb3\\u0ccd\\u0cb3\\u0cc6\\u0caf\\u0ca6\\u0cc1. \\u0cb8\\u0cc1\\u0c9f\\u0ccd\\u0c9f \\u0c97\\u0cbe\\u0caf\\u0c95\\u0ccd\\u0c95\\u0cc2 \\u0c86\\u0c95\\u0cb3 \\u0ca4\\u0cc1\\u0caa\\u0ccd\\u0caa \\u0cac\\u0cc6\\u0cb8\\u0ccd\\u0c9f\\u0ccd. \\u0cb8\\u0cc1\\u0c9f\\u0ccd\\u0c9f \\u0c9c\\u0cbe\\u0c97\\u0c95\\u0ccd\\u0c95\\u0cc6 \\u0c86\\u0c95\\u0cb3 \\u0ca4\\u0cc1\\u0caa\\u0ccd\\u0caa\\u0cb5\\u0ca8\\u0ccd\\u0ca8\\u0cc1 \\u0cb9\\u0c9a\\u0ccd\\u0c9a\\u0cac\\u0cc7\\u0c95\\u0cc1.\\n\\u0ca4\\u0cc6\\u0c82\\u0c97\\u0cbf\\u0ca8 \\u0c8e\\u0ca3\\u0ccd\\u0ca3\\u0cc6 \\u0c9a\\u0cb0\\u0ccd\\u0cae\\u0c95\\u0ccd\\u0c95\\u0cc6 \\u0cac\\u0cb9\\u0cb3 \\u0c92\\u0cb3\\u0ccd\\u0cb3\\u0cc6\\u0caf\\u0ca6\\u0cc1. \\u0c9a\\u0cb3\\u0cbf\\u0c97\\u0cbe\\u0cb2\\u0ca6\\u0cb2\\u0ccd\\u0cb2\\u0cbf \\u0c9a\\u0cb0\\u0ccd\\u0cae \\u0c95\\u0cbe\\u0c82\\u0ca4\\u0cbf\\u0caf\\u0cc1\\u0ca4\\u0cb5\\u0cbe\\u0c97\\u0cbf \\u0cae\\u0cc3\\u0ca6\\u0cc1\\u0cb5\\u0cbe\\u0c97\\u0cbf\\u0cb0\\u0cb2\\u0cc6\\u0c82\\u0ca6\\u0cc1 \\u0ca4\\u0cc6\\u0c82\\u0c97\\u0cbf\\u0ca8 \\u0c8e\\u0ca3\\u0ccd\\u0ca3\\u0cc6\\u0caf\\u0ca8\\u0ccd\\u0ca8\\u0cc1 \\u0c9a\\u0cb0\\u0ccd\\u0cae\\u0c95\\u0ccd\\u0c95\\u0cc6 \\u0cb9\\u0c9a\\u0ccd\\u0c9a\\u0cbf\\u0c95\\u0cca\\u0cb3\\u0ccd\\u0ca4\\u0cbe\\u0cb0\\u0cc6. \\u0c86\\u0cb0\\u0ccb\\u0c97\\u0ccd\\u0caf\\u0c95\\u0ccd\\u0c95\\u0cc2 \\u0c92\\u0cb3\\u0ccd\\u0cb3\\u0cc6\\u0caf\\u0ca6\\u0cbe\\u0c97\\u0cbf\\u0cb0\\u0cc1\\u0cb5 \\u0ca4\\u0cc6\\u0c82\\u0c97\\u0cbf\\u0ca8 \\u0c8e\\u0ca3\\u0ccd\\u0ca3\\u0cc6 \\u0cb8\\u0cc1\\u0c9f\\u0ccd\\u0c9f \\u0c97\\u0cbe\\u0caf\\u0cb5\\u0ca8\\u0ccd\\u0ca8\\u0cc1 \\u0c95\\u0ca1\\u0cbf\\u0cae\\u0cc6 \\u0cae\\u0cbe\\u0ca1\\u0cc1\\u0ca4\\u0ccd\\u0ca4\\u0ca6\\u0cc6. \\u0caa\\u0c9f\\u0cbe\\u0c95\\u0cbf \\u0cb8\\u0cbf\\u0ca1\\u0cbf\\u0cb8\\u0cc1\\u0cb5 \\u0cb5\\u0cc7\\u0cb3\\u0cc6 \\u0cb8\\u0cc1\\u0c9f\\u0ccd\\u0c9f\\u0cb0\\u0cc6 \\u0c86 \\u0c9c\\u0cbe\\u0c97\\u0c95\\u0ccd\\u0c95\\u0cc6 \\u0ca4\\u0cc6\\u0c82\\u0c97\\u0cbf\\u0ca8 \\u0c8e\\u0ca3\\u0ccd\\u0ca3\\u0cc6 \\u0cb9\\u0c9a\\u0ccd\\u0c9a\\u0cbf. \\u0c89\\u0cb0\\u0cbf \\u0ca4\\u0c95\\u0ccd\\u0cb7\\u0ca3 \\u0c95\\u0ca1\\u0cbf\\u0cae\\u0cc6\\u0caf\\u0cbe\\u0c97\\u0cc1\\u0ca4\\u0ccd\\u0ca4\\u0ca6\\u0cc6.\\n\\u0cb9\\u0cbf\\u0c82\\u0ca6\\u0cc2 \\u0ca7\\u0cb0\\u0ccd\\u0cae\\u0ca6\\u0cb2\\u0ccd\\u0cb2\\u0cbf \\u0ca4\\u0cc1\\u0cb3\\u0cb8\\u0cbf\\u0c97\\u0cc6 \\u0ca6\\u0cc7\\u0cb5\\u0cbf \\u0cb8\\u0ccd\\u0ca5\\u0cbe\\u0ca8 \\u0ca8\\u0cc0\\u0ca1\\u0cb2\\u0cbe\\u0c97\\u0cbf\\u0ca6\\u0cc6. \\u0caa\\u0ccd\\u0cb0\\u0ca4\\u0cbf\\u0caf\\u0cca\\u0cac\\u0ccd\\u0cac\\u0cb0 \\u0cae\\u0ca8\\u0cc6\\u0caf\\u0cb2\\u0ccd\\u0cb2\\u0cc2 \\u0ca4\\u0cc1\\u0cb3\\u0cb8\\u0cbf \\u0c97\\u0cbf\\u0ca1 \\u0c87\\u0cb0\\u0cc1\\u0ca4\\u0ccd\\u0ca4\\u0ca6\\u0cc6. \\u0cb8\\u0cc1\\u0c9f\\u0ccd\\u0c9f \\u0c97\\u0cbe\\u0caf\\u0c95\\u0ccd\\u0c95\\u0cc6 \\u0ca4\\u0c95\\u0ccd\\u0cb7\\u0ca3 \\u0ca4\\u0cc1\\u0cb3\\u0cb8\\u0cbf \\u0cb0\\u0cb8\\u0cb5\\u0ca8\\u0ccd\\u0ca8\\u0cc1 \\u0cb9\\u0cbe\\u0c95\\u0cbf. \\u0c89\\u0cb0\\u0cbf \\u0c95\\u0ca1\\u0cbf\\u0cae\\u0cc6\\u0caf\\u0cbe\\u0c97\\u0cc1\\u0cb5 \\u0c9c\\u0cca\\u0ca4\\u0cc6\\u0c97\\u0cc6 \\u0cb8\\u0ccb\\u0c82\\u0c95\\u0ca8\\u0ccd\\u0ca8\\u0cc1 \\u0ca4\\u0ca1\\u0cc6\\u0caf\\u0cc1\\u0ca4\\u0ccd\\u0ca4\\u0ca6\\u0cc6.\\n\\u0cac\\u0cc7\\u0caf\\u0cbf\\u0cb8\\u0cbf\\u0ca6 \\u0c86\\u0cb2\\u0cc2\\u0c97\\u0ca1\\u0ccd\\u0ca1\\u0cc6 \\u0cb8\\u0cc1\\u0c9f\\u0ccd\\u0c9f \\u0c97\\u0cbe\\u0caf\\u0c95\\u0ccd\\u0c95\\u0cc6 \\u0c92\\u0cb3\\u0ccd\\u0cb3\\u0cc6 \\u0cae\\u0ca6\\u0ccd\\u0ca6\\u0cc1. \\u0c89\\u0cb0\\u0cbf \\u0c95\\u0ca1\\u0cbf\\u0cae\\u0cc6 \\u0cae\\u0cbe\\u0ca1\\u0cc1\\u0cb5 \\u0c9c\\u0cca\\u0ca4\\u0cc6 \\u0cb8\\u0cc1\\u0c9f\\u0ccd\\u0c9f \\u0c97\\u0cbe\\u0caf\\u0ca6 \\u0c95\\u0cb2\\u0cc6\\u0caf\\u0ca8\\u0ccd\\u0ca8\\u0cc1 \\u0c95\\u0ca1\\u0cbf\\u0cae\\u0cc6 \\u0cae\\u0cbe\\u0ca1\\u0cc1\\u0cb5 \\u0cb6\\u0c95\\u0ccd\\u0ca4\\u0cbf \\u0c87\\u0ca6\\u0c95\\u0ccd\\u0c95\\u0cbf\\u0ca6\\u0cc6.\",\n          \"\\u0cae\\u0cc2\\u0ca4\\u0ccd\\u0cb0\\u0ca6 \\u0cac\\u0c97\\u0ccd\\u0c97\\u0cc6 \\u0ca8\\u0cc0\\u0cb5\\u0cc1 \\u0ca4\\u0cbf\\u0cb3\\u0cbf\\u0caf\\u0ca6\\u0cc7 \\u0c87\\u0ca6\\u0ccd\\u0ca6 \\u0c85\\u0c9a\\u0ccd\\u0c9a\\u0cb0\\u0cbf\\u0caf \\u0cb8\\u0c82\\u0c97\\u0ca4\\u0cbf\\u0c97\\u0cb3\\u0cc1!\\nWellness\\n|\\nUpdated: Wednesday, December 14, 2016, 10:49 [IST]\\n\\u0cae\\u0cc2\\u0ca4\\u0ccd\\u0cb0\\u0cb5\\u0cbf\\u0cb8\\u0cb0\\u0ccd\\u0c9c\\u0ca8\\u0cc6 \\u0c86\\u0cb0\\u0ccb\\u0c97\\u0ccd\\u0caf\\u0c95\\u0cb0 \\u0c95\\u0ccd\\u0cb0\\u0cbf\\u0caf\\u0cc6\\u0caf\\u0cbe\\u0c97\\u0cbf\\u0ca6\\u0ccd\\u0ca6\\u0cc1 \\u0ca8\\u0cbf\\u0caf\\u0cae\\u0cbf\\u0ca4\\u0cb5\\u0cbe\\u0c97\\u0cbf \\u0ca6\\u0cc7\\u0cb9\\u0ca6 \\u0c95\\u0cb2\\u0ccd\\u0cae\\u0cb6\\u0c97\\u0cb3\\u0cc1 \\u0cb9\\u0cca\\u0cb0\\u0cb9\\u0ccb\\u0c97\\u0cc1\\u0ca4\\u0ccd\\u0ca4\\u0cbf\\u0cb0\\u0cc1\\u0cb5 \\u0cb5\\u0cbf\\u0ca7\\u0cbe\\u0ca8\\u0cb5\\u0cbe\\u0c97\\u0cbf\\u0ca6\\u0cc6. \\u0cb0\\u0c95\\u0ccd\\u0ca4\\u0cb5\\u0ca8\\u0ccd\\u0ca8\\u0cc1 \\u0cb8\\u0ca4\\u0ca4\\u0cb5\\u0cbe\\u0c97\\u0cbf \\u0cb6\\u0ccb\\u0ca7\\u0cbf\\u0cb8\\u0cc1\\u0cb5 \\u0cae\\u0cc2\\u0ca4\\u0ccd\\u0cb0\\u0caa\\u0cbf\\u0c82\\u0ca1\\u0c97\\u0cb3\\u0cc1 \\u0c95\\u0cb2\\u0ccd\\u0cae\\u0cb6, \\u0cb5\\u0cbf\\u0cb7\\u0c95\\u0cbe\\u0cb0\\u0cbf \\u0cb5\\u0cb8\\u0ccd\\u0ca4\\u0cc1\\u0c97\\u0cb3\\u0ca8\\u0ccd\\u0ca8\\u0cc1 \\u0caa\\u0ccd\\u0cb0\\u0ca4\\u0ccd\\u0caf\\u0cc7\\u0c95\\u0cbf\\u0cb8\\u0cbf \\u0ca6\\u0ccd\\u0cb0\\u0cb5\\u0cb0\\u0cc2\\u0caa\\u0ca6\\u0cb2\\u0ccd\\u0cb2\\u0cbf \\u0cae\\u0cc2\\u0ca4\\u0ccd\\u0cb0\\u0c95\\u0ccb\\u0cb6\\u0ca6\\u0cb2\\u0ccd\\u0cb2\\u0cbf \\u0cb8\\u0c82\\u0c97\\u0ccd\\u0cb0\\u0cb9\\u0cbf\\u0cb8\\u0cc1\\u0ca4\\u0ccd\\u0ca4\\u0cbe \\u0cac\\u0cb0\\u0cc1\\u0ca4\\u0ccd\\u0ca4\\u0ca6\\u0cc6. \\u0c86\\u0c97\\u0cbe\\u0c97\\u0ccd\\u0c97\\u0cc6 \\u0cae\\u0cc2\\u0ca4\\u0ccd\\u0cb0 \\u0cb5\\u0cbf\\u0cb8\\u0cb0\\u0ccd\\u0c9c\\u0ca8\\u0cc6 \\u0cae\\u0cbe\\u0ca1\\u0cac\\u0cc7\\u0c95\\u0cbe\\u0ca6 \\u0c85\\u0ca8\\u0cbf\\u0cb5\\u0cbe\\u0cb0\\u0ccd\\u0caf\\u0ca4\\u0cc6\\u0caf\\u0cc7?\\n\\u0cae\\u0cc2\\u0ca4\\u0ccd\\u0cb0\\u0c95\\u0ccb\\u0cb6\\u0c95\\u0ccd\\u0c95\\u0cc6 \\u0c88 \\u0ca6\\u0ccd\\u0cb0\\u0cb5\\u0cb5\\u0ca8\\u0ccd\\u0ca8\\u0cc1 \\u0cb9\\u0cbf\\u0ca1\\u0cbf\\u0ca6\\u0cbf\\u0ca1\\u0cc1\\u0cb5 \\u0c92\\u0c82\\u0ca6\\u0cc1 \\u0cb8\\u0cbe\\u0cae\\u0cb0\\u0ccd\\u0ca5\\u0ccd\\u0caf\\u0cb5\\u0cbf\\u0ca6\\u0cc6. \\u0c88 \\u0cb8\\u0cbe\\u0cae\\u0cb0\\u0ccd\\u0ca5\\u0ccd\\u0caf \\u0cae\\u0cc0\\u0cb0\\u0cc1\\u0cb5 \\u0cb9\\u0c82\\u0ca4\\u0c95\\u0ccd\\u0c95\\u0cc2 \\u0cae\\u0cca\\u0ca6\\u0cb2\\u0cc1 \\u0c87\\u0ca6\\u0ca8\\u0ccd\\u0ca8\\u0cc1 \\u0c96\\u0cbe\\u0cb2\\u0cbf \\u0cae\\u0cbe\\u0ca1\\u0cb2\\u0cc1 \\u0cae\\u0cc6\\u0ca6\\u0cc1\\u0cb3\\u0cc1 \\u0cb8\\u0cc2\\u0c9a\\u0ca8\\u0cc6 \\u0ca8\\u0cc0\\u0ca1\\u0cc1\\u0ca4\\u0ccd\\u0ca4\\u0ca6\\u0cc6. \\u0c88 \\u0cb8\\u0cc2\\u0c9a\\u0ca8\\u0cc6 \\u0ca6\\u0cbf\\u0ca8\\u0c95\\u0ccd\\u0c95\\u0cc6\\u0cb7\\u0ccd\\u0c9f\\u0cc1 \\u0cac\\u0cbe\\u0cb0\\u0cbf \\u0c86\\u0c97\\u0cc1\\u0ca4\\u0ccd\\u0ca4\\u0ca6\\u0cc6 \\u0c8e\\u0c82\\u0ca6\\u0cc1 \\u0ca8\\u0cbf\\u0cae\\u0c97\\u0cc6 \\u0c97\\u0cca\\u0ca4\\u0ccd\\u0ca4\\u0cbf\\u0ca6\\u0cc6\\u0caf\\u0cc7? \\u0cb9\\u0cc6\\u0c9a\\u0ccd\\u0c9a\\u0cbf\\u0ca8\\u0cb5\\u0cb0\\u0cbf\\u0c97\\u0cc6 \\u0c97\\u0cca\\u0ca4\\u0ccd\\u0ca4\\u0cbf\\u0cb2\\u0ccd\\u0cb2, \\u0c85\\u0ca5\\u0cb5\\u0cbe \\u0c87\\u0ca6\\u0c95\\u0ccd\\u0c95\\u0cc2 \\u0cae\\u0cc1\\u0c82\\u0c9a\\u0cc6 \\u0c88 \\u0cac\\u0c97\\u0ccd\\u0c97\\u0cc6 \\u0c97\\u0cae\\u0ca8 \\u0cb9\\u0cb0\\u0cbf\\u0cb8\\u0cbf\\u0caf\\u0cc7 \\u0c87\\u0cb2\\u0ccd\\u0cb2. \\u0caa\\u0ca6\\u0cc7-\\u0caa\\u0ca6\\u0cc7 \\u0cae\\u0cc2\\u0ca4\\u0ccd\\u0cb0 \\u0cb5\\u0cbf\\u0cb8\\u0cb0\\u0ccd\\u0c9c\\u0ca8\\u0cc6 \\u0c85\\u0caa\\u0cbe\\u0caf\\u0ca6 \\u0cb8\\u0cc2\\u0c9a\\u0ca8\\u0cc6\\n\\u0c89\\u0ca4\\u0ccd\\u0ca4\\u0cae \\u0c86\\u0cb0\\u0ccb\\u0c97\\u0ccd\\u0caf\\u0cb5\\u0ca8\\u0ccd\\u0ca8\\u0cc1 \\u0c95\\u0cbe\\u0caa\\u0cbe\\u0ca1\\u0cbf\\u0c95\\u0cca\\u0cb3\\u0ccd\\u0cb3\\u0cac\\u0cc7\\u0c95\\u0cbe\\u0ca6\\u0cb0\\u0cc6 \\u0ca8\\u0cae\\u0ccd\\u0cae \\u0cae\\u0cc2\\u0ca4\\u0ccd\\u0cb0\\u0ca6 \\u0cac\\u0c97\\u0ccd\\u0c97\\u0cc6 \\u0c95\\u0cc6\\u0cb2\\u0cb5\\u0cc1 \\u0cb5\\u0cbf\\u0cb7\\u0caf\\u0c97\\u0cb3\\u0ca8\\u0ccd\\u0ca8\\u0cc1 \\u0ca4\\u0cbf\\u0cb3\\u0cbf\\u0ca6\\u0cbf\\u0cb0\\u0cb2\\u0cc7\\u0cac\\u0cc7\\u0c95\\u0cc1. \\u0c87\\u0ca6\\u0cb0\\u0cb2\\u0ccd\\u0cb2\\u0cbf \\u0cae\\u0cc1\\u0c96\\u0ccd\\u0caf\\u0cb5\\u0cbe\\u0ca6\\u0cc1\\u0ca6\\u0cc1 \\u0cae\\u0cc2\\u0ca4\\u0ccd\\u0cb0\\u0ca6 \\u0cac\\u0ca3\\u0ccd\\u0ca3. \\u0cae\\u0cc2\\u0ca4\\u0ccd\\u0cb0\\u0cb5\\u0cbf\\u0cb8\\u0cb0\\u0ccd\\u0c9c\\u0cbf\\u0cb8\\u0cb2\\u0cc1 \\u0ca4\\u0ca1\\u0cae\\u0cbe\\u0ca1\\u0cbf\\u0ca6\\u0cb7\\u0ccd\\u0c9f\\u0cc2 \\u0cac\\u0ca3\\u0ccd\\u0ca3 \\u0cb9\\u0cb3\\u0ca6\\u0cbf\\u0caf\\u0cbe\\u0c97\\u0cc1\\u0ca4\\u0ccd\\u0ca4\\u0cbe \\u0cb9\\u0ccb\\u0c97\\u0cc1\\u0ca4\\u0ccd\\u0ca4\\u0ca6\\u0cc6. \\u0cae\\u0cc2\\u0ca4\\u0ccd\\u0cb0 \\u0c89\\u0cb0\\u0cbf\\u0caf\\u0cc7? \\u0c87\\u0cb2\\u0ccd\\u0cb2\\u0cbf\\u0ca6\\u0cc6 \\u0cae\\u0ca8\\u0cc6\\u0cae\\u0ca6\\u0ccd\\u0ca6\\u0cc1\\n\\u0ca6\\u0cbf\\u0ca8\\u0ca6\\u0cb2\\u0ccd\\u0cb2\\u0cbf \\u0c8e\\u0cb7\\u0ccd\\u0c9f\\u0cc1 \\u0cac\\u0cbe\\u0cb0\\u0cbf \\u0cae\\u0cc2\\u0ca4\\u0ccd\\u0cb0\\u0cb5\\u0cbf\\u0cb8\\u0cb0\\u0ccd\\u0c9c\\u0ca8\\u0cc6 \\u0c86\\u0c97\\u0cc1\\u0ca4\\u0ccd\\u0ca4\\u0ca6\\u0cc6 \\u0c8e\\u0c82\\u0cac \\u0cae\\u0cbe\\u0cb9\\u0cbf\\u0ca4\\u0cbf \\u0c85\\u0cb0\\u0ccb\\u0c97\\u0ccd\\u0caf \\u0c95\\u0cbe\\u0caa\\u0cbe\\u0ca1\\u0cbf\\u0c95\\u0cca\\u0cb3\\u0ccd\\u0cb3\\u0cb2\\u0cc1 \\u0c85\\u0c97\\u0ca4\\u0ccd\\u0caf\\u0cb5\\u0cbe\\u0ca6 \\u0cae\\u0cbe\\u0ca8\\u0ca6\\u0c82\\u0ca1\\u0cb5\\u0cbe\\u0c97\\u0cbf\\u0ca6\\u0ccd\\u0ca6\\u0cc1 \\u0c88 \\u0caa\\u0ccd\\u0cb0\\u0cae\\u0cbe\\u0ca3 \\u0c95\\u0ca1\\u0cbf\\u0cae\\u0cc6\\u0caf\\u0cbe\\u0ca6\\u0cb7\\u0ccd\\u0c9f\\u0cc2 \\u0c86\\u0cb0\\u0ccb\\u0c97\\u0ccd\\u0caf \\u0c95\\u0cc6\\u0ca1\\u0cc1\\u0cb5 \\u0cb8\\u0cbe\\u0ca7\\u0ccd\\u0caf\\u0ca4\\u0cc6\\u0caf\\u0cc2 \\u0cb9\\u0cc6\\u0c9a\\u0ccd\\u0c9a\\u0cc1\\u0ca4\\u0ccd\\u0ca4\\u0ca6\\u0cc6. \\u0cac\\u0ca8\\u0ccd\\u0ca8\\u0cbf, \\u0c8e\\u0cb2\\u0ccd\\u0cb2\\u0cb0\\u0cc2 \\u0c95\\u0ca1\\u0ccd\\u0ca1\\u0cbe\\u0caf\\u0cb5\\u0cbe\\u0c97\\u0cbf \\u0ca4\\u0cbf\\u0cb3\\u0cbf\\u0ca6\\u0cbf\\u0cb0\\u0cb2\\u0cc7\\u0cac\\u0cc7\\u0c95\\u0cbe\\u0ca6 \\u0cae\\u0ca4\\u0ccd\\u0ca4\\u0cc1 \\u0c85\\u0c9a\\u0ccd\\u0c9a\\u0cb0\\u0cbf\\u0caf \\u0cae\\u0cbe\\u0cb9\\u0cbf\\u0ca4\\u0cbf\\u0c97\\u0cb3\\u0ca8\\u0ccd\\u0ca8\\u0cc1 \\u0ca8\\u0ccb\\u0ca1\\u0ccb\\u0ca3.....\\n\\u0cae\\u0cbe\\u0cb9\\u0cbf\\u0ca4\\u0cbf #1\\n\\u0cb8\\u0cbe\\u0cae\\u0cbe\\u0ca8\\u0ccd\\u0caf \\u0cae\\u0cc8\\u0c95\\u0c9f\\u0ccd\\u0c9f\\u0cbf\\u0ca8 \\u0cb5\\u0ccd\\u0caf\\u0c95\\u0ccd\\u0ca4\\u0cbf \\u0caa\\u0ccd\\u0cb0\\u0ca4\\u0cbf\\u0ca6\\u0cbf\\u0ca8 2 \\u0cb0\\u0cbf\\u0c82\\u0ca6 2.5 \\u0cb2\\u0cc0\\u0c9f\\u0cb0\\u0ccd \\u0ca8\\u0cb7\\u0ccd\\u0c9f\\u0cc1 \\u0caa\\u0ccd\\u0cb0\\u0cae\\u0cbe\\u0ca3\\u0ca6 \\u0cae\\u0cc2\\u0ca4\\u0ccd\\u0cb0\\u0cb5\\u0ca8\\u0ccd\\u0ca8\\u0cc1 \\u0ca6\\u0cc7\\u0cb9\\u0ca6\\u0cbf\\u0c82\\u0ca6 \\u0cb9\\u0cca\\u0cb0\\u0cb9\\u0cbe\\u0c95\\u0cac\\u0cc7\\u0c95\\u0cc1. \\u0ca8\\u0cbe\\u0cb5\\u0cc1 \\u0caa\\u0ccd\\u0cb0\\u0ca4\\u0cbf\\u0ca6\\u0cbf\\u0ca8 \\u0cb8\\u0cc1\\u0cae\\u0cbe\\u0cb0\\u0cc1 \\u0c8e\\u0cb0\\u0ca1\\u0cc1 \\u0cb2\\u0cc0\\u0c9f\\u0cb0\\u0cbf\\u0ca8\\u0cb7\\u0ccd\\u0c9f\\u0cc1 \\u0ca8\\u0cc0\\u0cb0\\u0ca8\\u0ccd\\u0ca8\\u0cc1 \\u0c95\\u0cc1\\u0ca1\\u0cbf\\u0caf\\u0cc1\\u0ca4\\u0ccd\\u0ca4\\u0cc7\\u0cb5\\u0cc6. \\u0cb9\\u0cbe\\u0c97\\u0cbe\\u0ca6\\u0cb0\\u0cc6 \\u0c88 \\u0cb9\\u0cc6\\u0c9a\\u0ccd\\u0c9a\\u0cc1\\u0cb5\\u0cb0\\u0cbf \\u0c85\\u0cb0\\u0ccd\\u0ca7 \\u0cb2\\u0cc0\\u0c9f\\u0cb0\\u0ccd \\u0cac\\u0c82\\u0ca6\\u0cbf\\u0ca6\\u0ccd\\u0ca6\\u0cc6\\u0cb2\\u0ccd\\u0cb2\\u0cbf\\u0c82\\u0ca6?\\n\\u0cae\\u0cbe\\u0cb9\\u0cbf\\u0ca4\\u0cbf #1\\n\\u0cb5\\u0cbe\\u0cb8\\u0ccd\\u0ca4\\u0cb5\\u0cb5\\u0cbe\\u0c97\\u0cbf \\u0c88 \\u0c8e\\u0cb0\\u0ca1\\u0cc2\\u0cb5\\u0cb0\\u0cc6 \\u0cb2\\u0cc0\\u0c9f\\u0cb0\\u0cbf\\u0ca8\\u0cb2\\u0ccd\\u0cb2\\u0cbf \\u0c85\\u0cb0\\u0ccd\\u0ca7\\u0ca6\\u0cb7\\u0ccd\\u0c9f\\u0cc1 \\u0cae\\u0cbe\\u0ca4\\u0ccd\\u0cb0 \\u0ca8\\u0cc0\\u0cb0\\u0cbf\\u0ca8 \\u0caa\\u0ccd\\u0cb0\\u0cae\\u0cbe\\u0ca3\\u0cb5\\u0cbe\\u0c97\\u0cbf\\u0ca6\\u0ccd\\u0ca6\\u0cc1 \\u0c89\\u0cb3\\u0cbf\\u0ca6\\u0ca6\\u0ccd\\u0ca6\\u0cc6\\u0cb2\\u0ccd\\u0cb2\\u0cbe \\u0c87\\u0ca6\\u0cb0\\u0cb2\\u0ccd\\u0cb2\\u0cbf \\u0c95\\u0cb0\\u0c97\\u0cbf\\u0cb0\\u0cc1\\u0cb5 \\u0cb2\\u0cb5\\u0ca3 \\u0cae\\u0ca4\\u0ccd\\u0ca4\\u0cc1 \\u0c95\\u0cb2\\u0ccd\\u0cae\\u0cb6\\u0c97\\u0cb3\\u0cc7 \\u0c86\\u0c97\\u0cbf\\u0cb5\\u0cc6. \\u0ca8\\u0cbe\\u0cb5\\u0cc1 \\u0cac\\u0cc6\\u0cb5\\u0cb0\\u0cbf\\u0ca8 \\u0cae\\u0ca4\\u0ccd\\u0ca4\\u0cc1 \\u0cae\\u0cb2\\u0cb5\\u0cbf\\u0cb8\\u0cb0\\u0ccd\\u0c9c\\u0ca8\\u0cc6\\u0caf \\u0cae\\u0cc2\\u0cb2\\u0c95\\u0cb5\\u0cc2 \\u0ca8\\u0cc0\\u0cb0\\u0ca8\\u0ccd\\u0ca8\\u0cc1 \\u0c95\\u0cb3\\u0cc6\\u0ca6\\u0cc1\\u0c95\\u0cca\\u0cb3\\u0ccd\\u0cb3\\u0cc1\\u0ca4\\u0ccd\\u0ca4\\u0cc7\\u0cb5\\u0cc6. \\u0c86\\u0ca6\\u0ccd\\u0ca6\\u0cb0\\u0cbf\\u0c82\\u0ca6 \\u0ca8\\u0cbe\\u0cb5\\u0cc1 \\u0c95\\u0cc1\\u0ca1\\u0cbf\\u0ca6 \\u0c86\\u0cb7\\u0ccd\\u0c9f\\u0cc2 \\u0ca8\\u0cc0\\u0cb0\\u0cc1 \\u0cac\\u0cb0\\u0cc6 \\u0cae\\u0cc2\\u0ca4\\u0ccd\\u0cb0\\u0cb5\\u0cbf\\u0cb8\\u0cb0\\u0ccd\\u0c9c\\u0ca8\\u0cc6\\u0caf\\u0cbf\\u0c82\\u0ca6 \\u0cae\\u0cbe\\u0ca4\\u0ccd\\u0cb0\\u0cb5\\u0cc7 \\u0cb9\\u0cca\\u0cb0\\u0cb9\\u0ccb\\u0c97\\u0ca6\\u0cc1.\\n\\u0cae\\u0cbe\\u0cb9\\u0cbf\\u0ca4\\u0cbf #2\\n\\u0cae\\u0cc2\\u0ca4\\u0ccd\\u0cb0\\u0cb5\\u0cbf\\u0cb8\\u0cb0\\u0ccd\\u0c9c\\u0ca8\\u0cc6 \\u0ca8\\u0cae\\u0ccd\\u0cae \\u0ca6\\u0cc7\\u0cb9\\u0ca6 \\u0c95\\u0cb2\\u0ccd\\u0cae\\u0cb6 \\u0cae\\u0ca4\\u0ccd\\u0ca4\\u0cc1 \\u0cb5\\u0cbf\\u0cb7\\u0c95\\u0cbe\\u0cb0\\u0cbf \\u0cb5\\u0cb8\\u0ccd\\u0ca4\\u0cc1\\u0c97\\u0cb3\\u0ca8\\u0ccd\\u0ca8\\u0cc1 \\u0cb9\\u0cca\\u0cb0\\u0c95\\u0cbe\\u0c95\\u0cc1\\u0cb5 \\u0c92\\u0c82\\u0ca6\\u0cc1 \\u0c85\\u0ca4\\u0ccd\\u0caf\\u0cc1\\u0ca4\\u0ccd\\u0ca4\\u0cae \\u0cb8\\u0ccd\\u0cb5\\u0c9a\\u0ccd\\u0c9b\\u0ca4\\u0cbe \\u0cb5\\u0ccd\\u0caf\\u0cb5\\u0cb8\\u0ccd\\u0ca5\\u0cc6\\u0caf\\u0cbe\\u0c97\\u0cbf\\u0ca6\\u0cc6. \\u0ca6\\u0cbf\\u0ca8\\u0ca6\\u0cb2\\u0ccd\\u0cb2\\u0cbf \\u0ca8\\u0cbf\\u0caf\\u0cae\\u0cbf\\u0ca4\\u0cb5\\u0cbe\\u0c97\\u0cbf \\u0cae\\u0cc2\\u0ca4\\u0ccd\\u0cb0\\u0cb5\\u0cbf\\u0cb8\\u0cb0\\u0ccd\\u0c9c\\u0cbf\\u0cb8\\u0cc1\\u0cb5 \\u0cae\\u0cc2\\u0cb2\\u0c95 \\u0ca6\\u0cc7\\u0cb9\\u0ca6\\u0cb2\\u0ccd\\u0cb2\\u0cbf \\u0cb8\\u0c82\\u0c97\\u0ccd\\u0cb0\\u0cb9\\u0cb5\\u0cbe\\u0c97\\u0cbf\\u0ca6\\u0ccd\\u0ca6 \\u0cb5\\u0cbf\\u0cb7\\u0c95\\u0cbe\\u0cb0\\u0cbf \\u0cb5\\u0cb8\\u0ccd\\u0ca4\\u0cc1\\u0c97\\u0cb3\\u0cc1, \\u0ca4\\u0ccd\\u0caf\\u0cbe\\u0c9c\\u0ccd\\u0caf\\u0c97\\u0cb3\\u0cc1, \\u0cb8\\u0cc2\\u0c95\\u0ccd\\u0cb7\\u0ccd\\u0cae\\u0c9c\\u0cc0\\u0cb5\\u0cbf\\u0c97\\u0cb3\\u0ca8\\u0ccd\\u0ca8\\u0cc1 \\u0cb9\\u0cca\\u0cb0\\u0cb9\\u0cbe\\u0c95\\u0cac\\u0cb9\\u0cc1\\u0ca6\\u0cc1.\\n\\u0cae\\u0cbe\\u0cb9\\u0cbf\\u0ca4\\u0cbf #3\\n\\u0c87\\u0ca8\\u0ccd\\u0ca8\\u0cca\\u0cac\\u0ccd\\u0cac\\u0cb0\\u0cc1 \\u0c97\\u0cae\\u0ca8\\u0cbf\\u0cb8\\u0cc1\\u0ca4\\u0ccd\\u0ca4\\u0cbf\\u0ca6\\u0ccd\\u0ca6\\u0cb0\\u0cc6 \\u0cae\\u0cc2\\u0ca4\\u0ccd\\u0cb0 \\u0cb5\\u0cbf\\u0cb8\\u0cb0\\u0ccd\\u0c9c\\u0cbf\\u0cb8\\u0cb2\\u0cc1 \\u0cae\\u0cc1\\u0c82\\u0ca6\\u0cbe\\u0c97\\u0ca6 \\u0cb5\\u0ccd\\u0caf\\u0c95\\u0ccd\\u0ca4\\u0cbf\\u0c97\\u0cb3\\u0cbf\\u0ca6\\u0ccd\\u0ca6\\u0cbe\\u0cb0\\u0cc6. \\u0c87\\u0ca6\\u0cca\\u0c82\\u0ca6\\u0cc1 \\u0ca4\\u0cb0\\u0cb9\\u0ca6 \\u0cae\\u0cbe\\u0ca8\\u0cb8\\u0cbf\\u0c95 \\u0c95\\u0cbe\\u0caf\\u0cbf\\u0cb2\\u0cc6\\u0caf\\u0cbe\\u0c97\\u0cbf\\u0ca6\\u0ccd\\u0ca6\\u0cc1 \\u0c87\\u0ca6\\u0c95\\u0ccd\\u0c95\\u0cc6 Paruresis \\u0c8e\\u0c82\\u0ca6\\u0cc1 \\u0c95\\u0cb0\\u0cc6\\u0caf\\u0cc1\\u0ca4\\u0ccd\\u0ca4\\u0cbe\\u0cb0\\u0cc6.\\n\\u0cae\\u0cbe\\u0cb9\\u0cbf\\u0ca4\\u0cbf #3\\n\\u0c87\\u0cb5\\u0cb0\\u0cbf\\u0c97\\u0cc6 \\u0cb8\\u0cbe\\u0cb0\\u0ccd\\u0cb5\\u0c9c\\u0ca8\\u0cbf\\u0c95 \\u0cb8\\u0ccd\\u0ca5\\u0cb3\\u0ca6\\u0cb2\\u0ccd\\u0cb2\\u0cbf, \\u0cae\\u0cc1\\u0c9a\\u0ccd\\u0c9a\\u0cbf\\u0ca6 \\u0cac\\u0cbe\\u0c97\\u0cbf\\u0cb2\\u0cbf\\u0ca8 \\u0cb6\\u0ccc\\u0c9a\\u0cbe\\u0cb2\\u0caf\\u0ca6\\u0cb2\\u0ccd\\u0cb2\\u0cbf\\u0caf\\u0cc2, \\u0c92\\u0c82\\u0ca6\\u0cc1 \\u0cb5\\u0cc7\\u0cb3\\u0cc6 \\u0caa\\u0c95\\u0ccd\\u0c95\\u0ca6 \\u0cae\\u0cc2\\u0ca4\\u0ccd\\u0cb0\\u0cbe\\u0cb2\\u0caf\\u0ca6\\u0cb2\\u0ccd\\u0cb2\\u0cbf \\u0c87\\u0ca8\\u0ccd\\u0ca8\\u0cca\\u0cac\\u0ccd\\u0cac\\u0cb0\\u0cbf\\u0ca6\\u0ccd\\u0ca6\\u0cb0\\u0cc6 \\u0cae\\u0cc2\\u0ca4\\u0ccd\\u0cb0 \\u0cb5\\u0cbf\\u0cb8\\u0cb0\\u0ccd\\u0c9c\\u0cbf\\u0cb8\\u0cb2\\u0cc1 \\u0cb8\\u0cbe\\u0ca7\\u0ccd\\u0caf\\u0cb5\\u0cbe\\u0c97\\u0ca6\\u0cc1.\\n\\u0cae\\u0cbe\\u0cb9\\u0cbf\\u0ca4\\u0cbf #4\\nmicturition syncope \\u0c8e\\u0c82\\u0cac \\u0c85\\u0ca4\\u0ccd\\u0caf\\u0caa\\u0cb0\\u0cc2\\u0caa\\u0ca6 \\u0c95\\u0cbe\\u0caf\\u0cbf\\u0cb2\\u0cc6 \\u0c87\\u0cb0\\u0cc1\\u0cb5 \\u0cb5\\u0ccd\\u0caf\\u0c95\\u0ccd\\u0ca4\\u0cbf\\u0c97\\u0cb3\\u0cc1 \\u0cae\\u0cc2\\u0ca4\\u0ccd\\u0cb0 \\u0cb5\\u0cbf\\u0cb8\\u0cb0\\u0ccd\\u0c9c\\u0cbf\\u0cb8\\u0cbf\\u0ca6 \\u0ca4\\u0c95\\u0ccd\\u0cb7\\u0ca3 \\u0ca4\\u0cb2\\u0cc6 \\u0ca4\\u0cbf\\u0cb0\\u0cc1\\u0c97\\u0cbf \\u0cac\\u0cc0\\u0cb3\\u0cc1\\u0ca4\\u0ccd\\u0ca4\\u0cbe\\u0cb0\\u0cc6. \\u0c87\\u0ca6\\u0c95\\u0ccd\\u0c95\\u0cc6 \\u0c8f\\u0ca8\\u0cc1 \\u0c95\\u0cbe\\u0cb0\\u0ca3 \\u0c8e\\u0c82\\u0ca6\\u0cc1 \\u0c87\\u0ca6\\u0cc1\\u0cb5\\u0cb0\\u0cc6\\u0c97\\u0cc6 \\u0c97\\u0cca\\u0ca4\\u0ccd\\u0ca4\\u0cbe\\u0c97\\u0ca6\\u0cc7 \\u0c87\\u0ca6\\u0ccd\\u0ca6\\u0cb0\\u0cc2 \\u0c88 \\u0cac\\u0c97\\u0ccd\\u0c97\\u0cc6 \\u0ca4\\u0cb2\\u0cc6\\u0c95\\u0cc6\\u0ca1\\u0cbf\\u0cb8\\u0cbf\\u0c95\\u0cca\\u0c82\\u0ca1 \\u0c95\\u0cc6\\u0cb2\\u0cb5\\u0cc1 \\u0ca4\\u0c9c\\u0ccd\\u0c9e\\u0cb0 \\u0caa\\u0ccd\\u0cb0\\u0c95\\u0cbe\\u0cb0 \\u0cae\\u0cc2\\u0ca4\\u0ccd\\u0cb0\\u0cb5\\u0cbf\\u0cb8\\u0cb0\\u0ccd\\u0c9c\\u0ca8\\u0cc6\\u0caf \\u0cb5\\u0cc7\\u0cb3\\u0cc6 \\u0cb0\\u0c95\\u0ccd\\u0ca4\\u0ca6 \\u0cac\\u0cbf\\u0c82\\u0ca6\\u0cc1\\u0cb5\\u0cca\\u0c82\\u0ca6\\u0ca8\\u0ccd\\u0ca8\\u0cc1 \\u0ca8\\u0ccb\\u0ca1\\u0cbf \\u0c87\\u0cb5\\u0cb0\\u0cbf\\u0c97\\u0cc6 \\u0ca4\\u0cb2\\u0cc6 \\u0ca4\\u0cbf\\u0cb0\\u0cc1\\u0c97\\u0cbf\\u0cb0\\u0cac\\u0cb9\\u0cc1\\u0ca6\\u0cc1.\\n\\u0cae\\u0cbe\\u0cb9\\u0cbf\\u0ca4\\u0cbf #5\\n\\u0c8e\\u0c9a\\u0ccd\\u0c9a\\u0cb0\\u0cbf\\u0ca6\\u0ccd\\u0ca6\\u0cb7\\u0ccd\\u0c9f\\u0cc1 \\u0cb9\\u0cca\\u0ca4\\u0ccd\\u0ca4\\u0cc1 \\u0cb8\\u0cc1\\u0cae\\u0cbe\\u0cb0\\u0cc1 \\u0c86\\u0cb0\\u0cb0\\u0cbf\\u0c82\\u0ca6 \\u0c8e\\u0c82\\u0c9f\\u0cc1 \\u0cac\\u0cbe\\u0cb0\\u0cbf \\u0cae\\u0cc2\\u0ca4\\u0ccd\\u0cb0\\u0cb5\\u0cbf\\u0cb8\\u0cb0\\u0ccd\\u0c9c\\u0ca8\\u0cc6\\u0c97\\u0cc6 \\u0cb9\\u0ccb\\u0c97\\u0cc1\\u0cb5\\u0cc1\\u0ca6\\u0cc1 \\u0c86\\u0cb0\\u0ccb\\u0c97\\u0ccd\\u0caf\\u0c95\\u0cb0 \\u0cb2\\u0c95\\u0ccd\\u0cb7\\u0ca3\\u0cb5\\u0cbe\\u0c97\\u0cbf\\u0ca6\\u0cc6. \\u0c85\\u0c82\\u0ca6\\u0cb0\\u0cc6 \\u0ca6\\u0cbf\\u0ca8\\u0ca6\\u0cb2\\u0ccd\\u0cb2\\u0cbf \\u0c8e\\u0c82\\u0c9f\\u0cc1 \\u0c97\\u0c82\\u0c9f\\u0cc6 \\u0ca8\\u0cbf\\u0ca6\\u0ccd\\u0ca6\\u0cc6\\u0caf \\u0cb8\\u0cae\\u0caf \\u0cac\\u0cbf\\u0c9f\\u0ccd\\u0c9f\\u0cc1 \\u0cb9\\u0ca6\\u0cbf\\u0ca8\\u0cbe\\u0cb0\\u0cc1 \\u0c97\\u0c82\\u0c9f\\u0cc6 \\u0c8e\\u0c9a\\u0ccd\\u0c9a\\u0cb0\\u0cbf\\u0cb0\\u0cc1\\u0cb5 \\u0cb5\\u0ccd\\u0caf\\u0c95\\u0ccd\\u0ca4\\u0cbf \\u0caa\\u0ccd\\u0cb0\\u0ca4\\u0cbf \\u0c8e\\u0cb0\\u0ca1\\u0cc1 \\u0c97\\u0c82\\u0c9f\\u0cc6\\u0c97\\u0cb3\\u0cbf\\u0c97\\u0cca\\u0cae\\u0ccd\\u0cae\\u0cc6 \\u0ca8\\u0cbf\\u0cb8\\u0cb0\\u0ccd\\u0c97\\u0ca6 \\u0c95\\u0cb0\\u0cc6\\u0c97\\u0cc6 \\u0c93\\u0c97\\u0cca\\u0ca1\\u0cac\\u0cc7\\u0c95\\u0cc1.\\n\\u0cae\\u0cbe\\u0cb9\\u0cbf\\u0ca4\\u0cbf #5\\n\\u0c92\\u0c82\\u0ca6\\u0cc1 \\u0cb5\\u0cc7\\u0cb3\\u0cc6 \\u0c88 \\u0c85\\u0cb5\\u0ca7\\u0cbf \\u0c87\\u0ca6\\u0c95\\u0ccd\\u0c95\\u0cc2 \\u0c95\\u0ca1\\u0cbf\\u0cae\\u0cc6\\u0caf\\u0cbe\\u0ca6\\u0cb0\\u0cc6 \\u0c85\\u0c82\\u0ca6\\u0cb0\\u0cc6 \\u0caa\\u0ccd\\u0cb0\\u0ca4\\u0cbf \\u0c97\\u0c82\\u0c9f\\u0cc6 \\u0c85\\u0ca5\\u0cb5\\u0cbe \\u0c85\\u0cb0\\u0ccd\\u0ca7 \\u0c97\\u0c82\\u0c9f\\u0cc6\\u0c97\\u0cc6 \\u0cae\\u0cc2\\u0ca4\\u0ccd\\u0cb0\\u0c95\\u0ccd\\u0c95\\u0cc6 \\u0c85\\u0cb5\\u0cb8\\u0cb0\\u0cb5\\u0cbe\\u0ca6\\u0cb0\\u0cc6 \\u0c87\\u0ca6\\u0cc1 \\u0cae\\u0ca7\\u0cc1\\u0cae\\u0cc7\\u0cb9, \\u0c85\\u0ca4\\u0cbf \\u0c95\\u0ccd\\u0cb0\\u0cbf\\u0caf\\u0cbe\\u0ca4\\u0ccd\\u0cae\\u0c95 \\u0cae\\u0cc2\\u0ca4\\u0ccd\\u0cb0\\u0c95\\u0ccb\\u0cb6, \\u0cae\\u0cc2\\u0ca4\\u0ccd\\u0cb0\\u0c95\\u0ccb\\u0cb6\\u0ca6 \\u0cb8\\u0ccb\\u0c82\\u0c95\\u0cc1 \\u0cae\\u0cca\\u0ca6\\u0cb2\\u0cbe\\u0ca6 \\u0ca4\\u0cca\\u0c82\\u0ca6\\u0cb0\\u0cc6\\u0c97\\u0cb3\\u0ca8\\u0ccd\\u0ca8\\u0cc1 \\u0cb8\\u0cc2\\u0c9a\\u0cbf\\u0cb8\\u0cc1\\u0cb5 \\u0cb8\\u0c82\\u0c9c\\u0ccd\\u0c9e\\u0cc6\\u0caf\\u0cbe\\u0c97\\u0cbf\\u0cb0\\u0cac\\u0cb9\\u0cc1\\u0ca6\\u0cc1.\\n\\u0cae\\u0cbe\\u0cb9\\u0cbf\\u0ca4\\u0cbf #6\\nAcute urinary retention \\u0c8e\\u0c82\\u0cac \\u0cb8\\u0ccd\\u0ca5\\u0cbf\\u0ca4\\u0cbf\\u0c97\\u0cc6 \\u0ca4\\u0cb2\\u0cc1\\u0caa\\u0cbf\\u0cb0\\u0cc1\\u0cb5 \\u0cb5\\u0ccd\\u0caf\\u0c95\\u0ccd\\u0ca4\\u0cbf\\u0c97\\u0cb3\\u0cc1 \\u0cae\\u0cc2\\u0ca4\\u0ccd\\u0cb0\\u0cb5\\u0ca8\\u0ccd\\u0ca8\\u0cc1 \\u0cb5\\u0cbf\\u0cb8\\u0cb0\\u0ccd\\u0c9c\\u0cbf\\u0cb8\\u0cc1\\u0cb5\\u0cc1\\u0ca6\\u0cc7 \\u0c87\\u0cb2\\u0ccd\\u0cb2. \\u0c87\\u0ca6\\u0cca\\u0c82\\u0ca6\\u0cc1 \\u0c85\\u0caa\\u0cbe\\u0caf\\u0c95\\u0cb0 \\u0cb8\\u0ccd\\u0ca5\\u0cbf\\u0ca4\\u0cbf\\u0caf\\u0cbe\\u0c97\\u0cbf\\u0ca6\\u0ccd\\u0ca6\\u0cc1 \\u0cae\\u0cc2\\u0ca4\\u0ccd\\u0cb0 \\u0cae\\u0cc2\\u0ca4\\u0ccd\\u0cb0\\u0c95\\u0ccb\\u0cb6\\u0ca6\\u0cb2\\u0ccd\\u0cb2\\u0cbf \\u0cb8\\u0c82\\u0c97\\u0ccd\\u0cb0\\u0cb9\\u0cb5\\u0cbe\\u0c97\\u0ca6\\u0cc7 \\u0cb0\\u0c95\\u0ccd\\u0ca4\\u0ca6\\u0cb2\\u0ccd\\u0cb2\\u0cbf \\u0cae\\u0cbf\\u0cb6\\u0ccd\\u0cb0\\u0ca3\\u0cb5\\u0cbe\\u0c97\\u0cbf \\u0ca6\\u0cc7\\u0cb9\\u0cb5\\u0cc6\\u0cb2\\u0ccd\\u0cb2\\u0cbe \\u0ca4\\u0cbf\\u0cb0\\u0cc1\\u0c97\\u0cc1\\u0ca4\\u0ccd\\u0ca4\\u0cbf\\u0cb0\\u0cc1\\u0ca4\\u0ccd\\u0ca4\\u0ca6\\u0cc6. \\u0ca4\\u0c95\\u0ccd\\u0cb7\\u0ca3\\u0cb5\\u0cc7 \\u0cb5\\u0cc8\\u0ca6\\u0ccd\\u0caf\\u0c95\\u0cc0\\u0caf \\u0ca4\\u0caa\\u0cbe\\u0cb8\\u0ca3\\u0cc6 \\u0cae\\u0ca4\\u0ccd\\u0ca4\\u0cc1 \\u0c9a\\u0cbf\\u0c95\\u0cbf\\u0ca4\\u0ccd\\u0cb8\\u0cc6\\u0caf \\u0c85\\u0cb5\\u0cb6\\u0ccd\\u0caf\\u0c95\\u0ca4\\u0cc6 \\u0c87\\u0ca6\\u0ccd\\u0ca6\\u0cc1 \\u0cb0\\u0ccb\\u0c97\\u0cbf\\u0caf\\u0ca8\\u0ccd\\u0ca8\\u0cc1 \\u0c86\\u0cb8\\u0ccd\\u0caa\\u0ca4\\u0ccd\\u0cb0\\u0cc6\\u0c97\\u0cc6 \\u0ca6\\u0cbe\\u0c96\\u0cb2\\u0cbf\\u0cb8\\u0cc1\\u0cb5 \\u0c85\\u0cb6\\u0ccd\\u0caf\\u0c95\\u0ca4\\u0cc6 \\u0c87\\u0ca6\\u0cc6.\\n\\u0cae\\u0cbe\\u0cb9\\u0cbf\\u0ca4\\u0cbf #7\\n\\u0cae\\u0cc2\\u0ca4\\u0ccd\\u0cb0 \\u0cb5\\u0cbf\\u0cb8\\u0cb0\\u0ccd\\u0c9c\\u0cbf\\u0cb8\\u0cbf\\u0ca6 \\u0cac\\u0cb3\\u0cbf\\u0c95 \\u0cae\\u0cc2\\u0ca4\\u0ccd\\u0cb0 \\u0cac\\u0cbf\\u0ca6\\u0ccd\\u0ca6\\u0cb2\\u0ccd\\u0cb2\\u0cbf \\u0ca8\\u0cc0\\u0cb0\\u0cbf\\u0ca8 \\u0c97\\u0cc1\\u0cb3\\u0ccd\\u0cb3\\u0cc6\\u0c97\\u0cb3\\u0cc1 \\u0cae\\u0cc2\\u0ca1\\u0cc1\\u0ca4\\u0ccd\\u0ca4\\u0cb5\\u0cc6. \\u0c88 \\u0c97\\u0cc1\\u0cb3\\u0ccd\\u0cb3\\u0cc6\\u0c97\\u0cb3\\u0cc1 \\u0c95\\u0cc6\\u0cb2\\u0cb5\\u0cc7 \\u0cb8\\u0cc6\\u0c95\\u0cc6\\u0c82\\u0ca1\\u0cc1\\u0c97\\u0cb3\\u0cb2\\u0ccd\\u0cb2\\u0cbf \\u0c92\\u0ca1\\u0cc6\\u0ca6\\u0cc1 \\u0cb9\\u0ccb\\u0c97\\u0cac\\u0cc7\\u0c95\\u0cc1. \\u0c86\\u0c97 \\u0c86\\u0cb0\\u0ccb\\u0c97\\u0ccd\\u0caf \\u0c89\\u0ca4\\u0ccd\\u0ca4\\u0cae\\u0cb5\\u0cbe\\u0c97\\u0cbf\\u0ca6\\u0cc6 \\u0c8e\\u0c82\\u0ca6\\u0cc1 \\u0c85\\u0cb0\\u0ccd\\u0ca5\\u0cc8\\u0cb8\\u0cbf\\u0c95\\u0cca\\u0cb3\\u0ccd\\u0cb3\\u0cac\\u0cb9\\u0cc1\\u0ca6\\u0cc1.\\n\\u0cae\\u0cbe\\u0cb9\\u0cbf\\u0ca4\\u0cbf #7\\n\\u0ca6\\u0cb2\\u0cbf\\u0c97\\u0cc6 \\u0c88 \\u0ca8\\u0cca\\u0cb0\\u0cc6 \\u0cb8\\u0cbe\\u0cac\\u0cc2\\u0ca8\\u0cbf\\u0ca8 \\u0c97\\u0c9f\\u0ccd\\u0c9f\\u0cbf\\u0ca8\\u0cca\\u0cb0\\u0cc6\\u0caf\\u0c82\\u0ca4\\u0cbf\\u0ca6\\u0ccd\\u0ca6\\u0cc1 \\u0c92\\u0ca1\\u0cc6\\u0caf\\u0cb2\\u0cc1 \\u0ca4\\u0cc1\\u0c82\\u0cac\\u0cbe \\u0cb9\\u0cc6\\u0c9a\\u0ccd\\u0c9a\\u0cbf\\u0ca8 \\u0cb8\\u0cae\\u0caf \\u0ca4\\u0cc6\\u0c97\\u0cc6\\u0ca6\\u0cc1\\u0c95\\u0cca\\u0cb3\\u0ccd\\u0cb3\\u0cc1\\u0ca4\\u0ccd\\u0ca4\\u0cbf\\u0ca6\\u0ccd\\u0ca6\\u0cb0\\u0cc6 \\u0c87\\u0ca6\\u0cc2 \\u0cb8\\u0cb9\\u0cbe \\u0c86\\u0cb0\\u0ccb\\u0c97\\u0ccd\\u0caf\\u0ca6\\u0cb2\\u0ccd\\u0cb2\\u0cbf \\u0c8f\\u0cb0\\u0cc1\\u0caa\\u0cc7\\u0cb0\\u0cbf\\u0ca8 \\u0cb8\\u0ccd\\u0caa\\u0cb7\\u0ccd\\u0c9f \\u0cb8\\u0c82\\u0c95\\u0cc7\\u0ca4\\u0cb5\\u0cbe\\u0c97\\u0cbf\\u0ca6\\u0ccd\\u0ca6\\u0cc1 \\u0ca4\\u0c95\\u0ccd\\u0cb7\\u0ca3 \\u0cae\\u0cc2\\u0ca4\\u0ccd\\u0cb0\\u0cb5\\u0ca8\\u0ccd\\u0ca8\\u0cc1 \\u0ca4\\u0caa\\u0cbe\\u0cb8\\u0cbf\\u0cb8\\u0cbf\\u0c95\\u0cca\\u0cb3\\u0ccd\\u0cb3\\u0cac\\u0cc7\\u0c95\\u0cc1. \\u0c88 \\u0caa\\u0cb0\\u0cc0\\u0c95\\u0ccd\\u0cb7\\u0cc6\\u0caf \\u0cb5\\u0cbf\\u0cb5\\u0cb0\\u0c97\\u0cb3\\u0ca8\\u0ccd\\u0ca8\\u0cc1 \\u0caa\\u0ca1\\u0cc6\\u0ca6 \\u0cb5\\u0cc8\\u0ca6\\u0ccd\\u0caf\\u0cb0\\u0cbf\\u0c97\\u0cc6 \\u0ca8\\u0cbf\\u0cae\\u0ccd\\u0cae \\u0c86\\u0cb0\\u0ccb\\u0c97\\u0ccd\\u0caf \\u0c8f\\u0cb0\\u0cc1\\u0caa\\u0cc7\\u0cb0\\u0cbe\\u0c97\\u0cb2\\u0cc1 \\u0c8f\\u0ca8\\u0cc1 \\u0c95\\u0cbe\\u0cb0\\u0ca3 \\u0c8e\\u0c82\\u0ca6\\u0cc1 \\u0c95\\u0c82\\u0ca1\\u0cc1\\u0c95\\u0cca\\u0cb3\\u0ccd\\u0cb3\\u0cb2\\u0cc1 \\u0cb8\\u0cc1\\u0cb2\\u0cad\\u0cb5\\u0cbe\\u0c97\\u0cc1\\u0ca4\\u0ccd\\u0ca4\\u0ca6\\u0cc6.\",\n          \"\\u0c95\\u0ccb\\u0cb2\\u0ccd\\u0c95\\u0ca4\\u0ccd\\u0ca4\\u0cbe \\u0cb8\\u0ccd\\u0cb5\\u0cbe\\u0c97\\u0ca4\\u0c95\\u0ccd\\u0c95\\u0cc6 \\u0cb8\\u0ccd\\u0c9f\\u0cc0\\u0cb5\\u0ccd \\u0cb8\\u0ccd\\u0cae\\u0cbf\\u0ca4\\u0ccd \\u0cab\\u0cc1\\u0cb2\\u0ccd \\u0c96\\u0cc1\\u0cb7\\u0ccd\\n\\u00a0 19-09-2017 12:18PM IST \\u00a0\\u00a0 /\\u00a0\\u00a0 \\u00a0 No Comments \\u00a0\\u00a0 /\\u00a0\\u00a0 \\u00a0 Posted In: Latest News , Sports\\n\\u0cad\\u0cbe\\u0cb0\\u0ca4-\\u0c86\\u0cb8\\u0ccd\\u0c9f\\u0ccd\\u0cb0\\u0cc7\\u0cb2\\u0cbf\\u0caf\\u0cbe \\u0ca8\\u0ca1\\u0cc1\\u0cb5\\u0cc6 \\u0ca8\\u0ca1\\u0cc6\\u0caf\\u0cc1\\u0cb5 \\u0c8e\\u0cb0\\u0ca1\\u0ca8\\u0cc7 \\u0c8f\\u0c95\\u0ca6\\u0cbf\\u0ca8 \\u0caa\\u0c82\\u0ca6\\u0ccd\\u0caf\\u0c95\\u0ccd\\u0c95\\u0cbe\\u0c97\\u0cbf \\u0c8e\\u0cb0\\u0ca1\\u0cc2 \\u0ca4\\u0c82\\u0ca1\\u0ca6 \\u0c86\\u0c9f\\u0c97\\u0cbe\\u0cb0\\u0cb0\\u0cc1 \\u0c95\\u0ccb\\u0cb2\\u0ccd\\u0c95\\u0ca4\\u0ccd\\u0ca4\\u0cbe \\u0ca4\\u0cb2\\u0cc1\\u0caa\\u0cbf\\u0ca6\\u0ccd\\u0ca6\\u0cbe\\u0cb0\\u0cc6. \\u0c97\\u0cc1\\u0cb0\\u0cc1\\u0cb5\\u0cbe\\u0cb0 \\u0cb8\\u0cc6\\u0caa\\u0ccd\\u0c9f\\u0cc6\\u0c82\\u0cac\\u0cb0\\u0ccd 21\\u0cb0\\u0c82\\u0ca6\\u0cc1 \\u0c88\\u0ca1\\u0ca8\\u0ccd \\u0c97\\u0cbe\\u0cb0\\u0ccd\\u0ca1\\u0ca8\\u0ccd \\u0ca8\\u0cb2\\u0ccd\\u0cb2\\u0cbf \\u0caa\\u0c82\\u0ca6\\u0ccd\\u0caf \\u0ca8\\u0ca1\\u0cc6\\u0caf\\u0cb2\\u0cbf\\u0ca6\\u0cc6.\\n\\u0cb8\\u0ccb\\u0cae\\u0cb5\\u0cbe\\u0cb0 \\u0c95\\u0ccb\\u0cb2\\u0ccd\\u0c95\\u0ca4\\u0ccd\\u0ca4\\u0cbe \\u0cb5\\u0cbf\\u0cae\\u0cbe\\u0ca8 \\u0ca8\\u0cbf\\u0cb2\\u0ccd\\u0ca6\\u0cbe\\u0ca3\\u0c95\\u0ccd\\u0c95\\u0cc6 \\u0cac\\u0c82\\u0ca6\\u0cbf\\u0cb3\\u0cbf\\u0ca6 \\u0c86\\u0c9f\\u0c97\\u0cbe\\u0cb0\\u0cb0\\u0cc1 \\u0cb5\\u0cbf\\u0cb5\\u0cbf\\u0ca7 \\u0cb6\\u0cc8\\u0cb2\\u0cbf\\u0caf\\u0cb2\\u0ccd\\u0cb2\\u0cbf \\u0c95\\u0cbe\\u0ca3\\u0cbf\\u0cb8\\u0cbf\\u0c95\\u0cca\\u0c82\\u0ca1\\u0cb0\\u0cc1. \\u0cae\\u0cbe\\u0c9c\\u0cbf \\u0ca8\\u0cbe\\u0caf\\u0c95 \\u0c8e\\u0c82.\\u0c8e\\u0cb8\\u0ccd. \\u0ca7\\u0ccb\\u0ca8\\u0cbf \\u0cb8\\u0ccd\\u0cb5\\u0cb2\\u0ccd\\u0caa \\u0cb8\\u0cc0\\u0cb0\\u0cbf\\u0caf\\u0cb8\\u0ccd \\u0c86\\u0c97\\u0cbf\\u0ca6\\u0ccd\\u0ca6\\u0cb0\\u0cc1. \\u0c87\\u0ca8\\u0ccd\\u0ca8\\u0cc1 \\u0c86\\u0cb8\\u0ccd\\u0c9f\\u0ccd\\u0cb0\\u0cc7\\u0cb2\\u0cbf\\u0caf\\u0cbe \\u0ca4\\u0c82\\u0ca1\\u0ca6 \\u0ca8\\u0cbe\\u0caf\\u0c95 \\u0cb8\\u0ccd\\u0cb5\\u0cc0\\u0cb5\\u0ccd \\u0cb8\\u0ccd\\u0cae\\u0cbf\\u0ca4\\u0ccd \\u0ca4\\u0cc1\\u0c82\\u0cac\\u0cbe \\u0c96\\u0cc1\\u0cb7\\u0cbf\\u0caf\\u0cb2\\u0ccd\\u0cb2\\u0cbf\\u0cb0\\u0cc1\\u0cb5\\u0c82\\u0ca4\\u0cc6 \\u0c95\\u0c82\\u0ca1\\u0cc1 \\u0cac\\u0c82\\u0ca4\\u0cc1. \\u0cad\\u0cbe\\u0cb0\\u0ca4 \\u0c95\\u0ccd\\u0cb0\\u0cbf\\u0c95\\u0cc6\\u0c9f\\u0ccd \\u0ca4\\u0c82\\u0ca1\\u0ca6 \\u0ca8\\u0cbe\\u0caf\\u0c95 \\u0cb5\\u0cbf\\u0cb0\\u0cbe\\u0c9f\\u0ccd \\u0c95\\u0cca\\u0cb9\\u0ccd\\u0cb2\\u0cbf \\u0c95\\u0cc2\\u0ca1 \\u0c89\\u0ca6\\u0ccd\\u0cb5\\u0cc7\\u0c97\\u0ca6\\u0cb2\\u0ccd\\u0cb2\\u0cbf\\u0ca6\\u0ccd\\u0ca6\\u0c82\\u0ca4\\u0cc6 \\u0c95\\u0c82\\u0ca1\\u0cc1 \\u0cac\\u0c82\\u0ca6\\u0ccd\\u0cb0\\u0cc1.\\n\\u0cad\\u0cbe\\u0cb0\\u0cc0 \\u0cae\\u0cb3\\u0cc6 \\u0cb9\\u0cbf\\u0ca8\\u0ccd\\u0ca8\\u0cc6\\u0cb2\\u0cc6\\u0caf\\u0cb2\\u0ccd\\u0cb2\\u0cbf \\u0cb5\\u0cbf\\u0cae\\u0cbe\\u0ca8 \\u0ca8\\u0cbf\\u0cb2\\u0ccd\\u0ca6\\u0cbe\\u0ca3\\u0ca6\\u0cbf\\u0c82\\u0ca6 \\u0c86\\u0c9f\\u0c97\\u0cbe\\u0cb0\\u0cb0\\u0cc1 \\u0ca8\\u0cc7\\u0cb0\\u0cb5\\u0cbe\\u0c97\\u0cbf \\u0cb9\\u0cca\\u0c9f\\u0cc7\\u0cb2\\u0ccd \\u0ca4\\u0cb2\\u0cc1\\u0caa\\u0cbf\\u0ca6\\u0ccd\\u0cb0\\u0cc1. \\u0c95\\u0ccb\\u0cb2\\u0ccd\\u0c95\\u0ca4\\u0ccd\\u0ca4\\u0cbe\\u0c97\\u0cc6 \\u0cac\\u0c82\\u0ca6 \\u0c86\\u0c9f\\u0c97\\u0cbe\\u0cb0\\u0cb0\\u0cbf\\u0c97\\u0cc6 \\u0c85\\u0ca6\\u0ccd\\u0ca7\\u0cc2\\u0cb0\\u0cbf \\u0cb8\\u0ccd\\u0cb5\\u0cbe\\u0c97\\u0ca4 \\u0c95\\u0ccb\\u0cb0\\u0cb2\\u0cbe\\u0caf\\u0ccd\\u0ca4\\u0cc1. \\u0cb9\\u0cca\\u0c9f\\u0cc7\\u0cb2\\u0ccd \\u0ca4\\u0cb2\\u0cc1\\u0caa\\u0cbf\\u0ca6 \\u0ca8\\u0c82\\u0ca4\\u0ccd\\u0cb0 \\u0cb8\\u0cc6\\u0cb2\\u0ccd\\u0cab\\u0cbf\\u0caf\\u0cca\\u0c82\\u0ca6\\u0ca8\\u0ccd\\u0ca8\\u0cc1 \\u0cb8\\u0cbe\\u0cae\\u0cbe\\u0c9c\\u0cbf\\u0c95 \\u0c9c\\u0cbe\\u0cb2\\u0ca4\\u0cbe\\u0ca3\\u0c95\\u0ccd\\u0c95\\u0cc6 \\u0cb9\\u0cbe\\u0c95\\u0cbf\\u0cb0\\u0cc1\\u0cb5 \\u0cb8\\u0ccd\\u0cae\\u0cbf\\u0ca4\\u0ccd \\u0c95\\u0ccb\\u0cb2\\u0ccd\\u0c95\\u0ca4\\u0ccd\\u0ca4\\u0cbe \\u0cb8\\u0ccd\\u0cb5\\u0cbe\\u0c97\\u0ca4\\u0c95\\u0ccd\\u0c95\\u0cc6 \\u0c96\\u0cc1\\u0cb7\\u0cbf\\u0caf\\u0cbe\\u0c97\\u0cbf\\u0cb0\\u0cc1\\u0cb5\\u0cc1\\u0ca6\\u0cbe\\u0c97\\u0cbf \\u0cb9\\u0cc7\\u0cb3\\u0cbf\\u0ca6\\u0ccd\\u0ca6\\u0cbe\\u0cb0\\u0cc6.\"\n        ],\n        \"semantic_type\": \"\",\n        \"description\": \"\"\n      }\n    },\n    {\n      \"column\": \"label\",\n      \"properties\": {\n        \"dtype\": \"category\",\n        \"num_unique_values\": 4,\n        \"samples\": [\n          \"sports\",\n          \"lifestyle\",\n          \"tech\"\n        ],\n        \"semantic_type\": \"\",\n        \"description\": \"\"\n      }\n    }\n  ]\n}",
       "type": "dataframe",
       "variable_name": "df_train"
      },
      "text/html": [
       "\n",
       "  <div id=\"df-350e0cbb-73e0-4a2d-b99f-2e4e40d1a0ec\" class=\"colab-df-container\">\n",
       "    <div>\n",
       "<style scoped>\n",
       "    .dataframe tbody tr th:only-of-type {\n",
       "        vertical-align: middle;\n",
       "    }\n",
       "\n",
       "    .dataframe tbody tr th {\n",
       "        vertical-align: top;\n",
       "    }\n",
       "\n",
       "    .dataframe thead th {\n",
       "        text-align: right;\n",
       "    }\n",
       "</style>\n",
       "<table border=\"1\" class=\"dataframe\">\n",
       "  <thead>\n",
       "    <tr style=\"text-align: right;\">\n",
       "      <th></th>\n",
       "      <th>headline</th>\n",
       "      <th>label</th>\n",
       "    </tr>\n",
       "  </thead>\n",
       "  <tbody>\n",
       "    <tr>\n",
       "      <th>0</th>\n",
       "      <td>Samsung Galaxy M30s: ಲಭ್ಯವಾಗಲಿದೆ ಶಕ್ತಿಶಾಲಿ ಸ್ಮ...</td>\n",
       "      <td>tech</td>\n",
       "    </tr>\n",
       "    <tr>\n",
       "      <th>1</th>\n",
       "      <td>ಯುವೆಂಟಸ್ ತಂಡ ಸೇರಿದ ಕ್ರಿಸ್ಟಿಯಾನೊ ರೊನಾಲ್ಡೊ\\nಯುವೆ...</td>\n",
       "      <td>sports</td>\n",
       "    </tr>\n",
       "    <tr>\n",
       "      <th>2</th>\n",
       "      <td>ಬ್ಯಾಡ್ಮಿಂಟನ್‌: ಎರಡನೇ ಸುತ್ತಿಗೆ ಸಿಂಧು, ಸಮೀರ್‌\\nಬ...</td>\n",
       "      <td>sports</td>\n",
       "    </tr>\n",
       "    <tr>\n",
       "      <th>3</th>\n",
       "      <td>ತಮ್ಮದು ಒಪ್ಪಿತ ʼಸಂಬಂಧʼ ಎಂದು ಹೇಳಿದ ನಟ\\n  12-05-2...</td>\n",
       "      <td>entertainment</td>\n",
       "    </tr>\n",
       "    <tr>\n",
       "      <th>4</th>\n",
       "      <td>ಖ್ಯಾತ ಕ್ರಿಕೆಟಿಗನ ಪತ್ನಿ ನಿಧನ\\n  31-12-2018 7:57...</td>\n",
       "      <td>sports</td>\n",
       "    </tr>\n",
       "  </tbody>\n",
       "</table>\n",
       "</div>\n",
       "    <div class=\"colab-df-buttons\">\n",
       "\n",
       "  <div class=\"colab-df-container\">\n",
       "    <button class=\"colab-df-convert\" onclick=\"convertToInteractive('df-350e0cbb-73e0-4a2d-b99f-2e4e40d1a0ec')\"\n",
       "            title=\"Convert this dataframe to an interactive table.\"\n",
       "            style=\"display:none;\">\n",
       "\n",
       "  <svg xmlns=\"http://www.w3.org/2000/svg\" height=\"24px\" viewBox=\"0 -960 960 960\">\n",
       "    <path d=\"M120-120v-720h720v720H120Zm60-500h600v-160H180v160Zm220 220h160v-160H400v160Zm0 220h160v-160H400v160ZM180-400h160v-160H180v160Zm440 0h160v-160H620v160ZM180-180h160v-160H180v160Zm440 0h160v-160H620v160Z\"/>\n",
       "  </svg>\n",
       "    </button>\n",
       "\n",
       "  <style>\n",
       "    .colab-df-container {\n",
       "      display:flex;\n",
       "      gap: 12px;\n",
       "    }\n",
       "\n",
       "    .colab-df-convert {\n",
       "      background-color: #E8F0FE;\n",
       "      border: none;\n",
       "      border-radius: 50%;\n",
       "      cursor: pointer;\n",
       "      display: none;\n",
       "      fill: #1967D2;\n",
       "      height: 32px;\n",
       "      padding: 0 0 0 0;\n",
       "      width: 32px;\n",
       "    }\n",
       "\n",
       "    .colab-df-convert:hover {\n",
       "      background-color: #E2EBFA;\n",
       "      box-shadow: 0px 1px 2px rgba(60, 64, 67, 0.3), 0px 1px 3px 1px rgba(60, 64, 67, 0.15);\n",
       "      fill: #174EA6;\n",
       "    }\n",
       "\n",
       "    .colab-df-buttons div {\n",
       "      margin-bottom: 4px;\n",
       "    }\n",
       "\n",
       "    [theme=dark] .colab-df-convert {\n",
       "      background-color: #3B4455;\n",
       "      fill: #D2E3FC;\n",
       "    }\n",
       "\n",
       "    [theme=dark] .colab-df-convert:hover {\n",
       "      background-color: #434B5C;\n",
       "      box-shadow: 0px 1px 3px 1px rgba(0, 0, 0, 0.15);\n",
       "      filter: drop-shadow(0px 1px 2px rgba(0, 0, 0, 0.3));\n",
       "      fill: #FFFFFF;\n",
       "    }\n",
       "  </style>\n",
       "\n",
       "    <script>\n",
       "      const buttonEl =\n",
       "        document.querySelector('#df-350e0cbb-73e0-4a2d-b99f-2e4e40d1a0ec button.colab-df-convert');\n",
       "      buttonEl.style.display =\n",
       "        google.colab.kernel.accessAllowed ? 'block' : 'none';\n",
       "\n",
       "      async function convertToInteractive(key) {\n",
       "        const element = document.querySelector('#df-350e0cbb-73e0-4a2d-b99f-2e4e40d1a0ec');\n",
       "        const dataTable =\n",
       "          await google.colab.kernel.invokeFunction('convertToInteractive',\n",
       "                                                    [key], {});\n",
       "        if (!dataTable) return;\n",
       "\n",
       "        const docLinkHtml = 'Like what you see? Visit the ' +\n",
       "          '<a target=\"_blank\" href=https://colab.research.google.com/notebooks/data_table.ipynb>data table notebook</a>'\n",
       "          + ' to learn more about interactive tables.';\n",
       "        element.innerHTML = '';\n",
       "        dataTable['output_type'] = 'display_data';\n",
       "        await google.colab.output.renderOutput(dataTable, element);\n",
       "        const docLink = document.createElement('div');\n",
       "        docLink.innerHTML = docLinkHtml;\n",
       "        element.appendChild(docLink);\n",
       "      }\n",
       "    </script>\n",
       "  </div>\n",
       "\n",
       "\n",
       "<div id=\"df-735bf119-7c34-4ca4-bb9c-c381992e1153\">\n",
       "  <button class=\"colab-df-quickchart\" onclick=\"quickchart('df-735bf119-7c34-4ca4-bb9c-c381992e1153')\"\n",
       "            title=\"Suggest charts\"\n",
       "            style=\"display:none;\">\n",
       "\n",
       "<svg xmlns=\"http://www.w3.org/2000/svg\" height=\"24px\"viewBox=\"0 0 24 24\"\n",
       "     width=\"24px\">\n",
       "    <g>\n",
       "        <path d=\"M19 3H5c-1.1 0-2 .9-2 2v14c0 1.1.9 2 2 2h14c1.1 0 2-.9 2-2V5c0-1.1-.9-2-2-2zM9 17H7v-7h2v7zm4 0h-2V7h2v10zm4 0h-2v-4h2v4z\"/>\n",
       "    </g>\n",
       "</svg>\n",
       "  </button>\n",
       "\n",
       "<style>\n",
       "  .colab-df-quickchart {\n",
       "      --bg-color: #E8F0FE;\n",
       "      --fill-color: #1967D2;\n",
       "      --hover-bg-color: #E2EBFA;\n",
       "      --hover-fill-color: #174EA6;\n",
       "      --disabled-fill-color: #AAA;\n",
       "      --disabled-bg-color: #DDD;\n",
       "  }\n",
       "\n",
       "  [theme=dark] .colab-df-quickchart {\n",
       "      --bg-color: #3B4455;\n",
       "      --fill-color: #D2E3FC;\n",
       "      --hover-bg-color: #434B5C;\n",
       "      --hover-fill-color: #FFFFFF;\n",
       "      --disabled-bg-color: #3B4455;\n",
       "      --disabled-fill-color: #666;\n",
       "  }\n",
       "\n",
       "  .colab-df-quickchart {\n",
       "    background-color: var(--bg-color);\n",
       "    border: none;\n",
       "    border-radius: 50%;\n",
       "    cursor: pointer;\n",
       "    display: none;\n",
       "    fill: var(--fill-color);\n",
       "    height: 32px;\n",
       "    padding: 0;\n",
       "    width: 32px;\n",
       "  }\n",
       "\n",
       "  .colab-df-quickchart:hover {\n",
       "    background-color: var(--hover-bg-color);\n",
       "    box-shadow: 0 1px 2px rgba(60, 64, 67, 0.3), 0 1px 3px 1px rgba(60, 64, 67, 0.15);\n",
       "    fill: var(--button-hover-fill-color);\n",
       "  }\n",
       "\n",
       "  .colab-df-quickchart-complete:disabled,\n",
       "  .colab-df-quickchart-complete:disabled:hover {\n",
       "    background-color: var(--disabled-bg-color);\n",
       "    fill: var(--disabled-fill-color);\n",
       "    box-shadow: none;\n",
       "  }\n",
       "\n",
       "  .colab-df-spinner {\n",
       "    border: 2px solid var(--fill-color);\n",
       "    border-color: transparent;\n",
       "    border-bottom-color: var(--fill-color);\n",
       "    animation:\n",
       "      spin 1s steps(1) infinite;\n",
       "  }\n",
       "\n",
       "  @keyframes spin {\n",
       "    0% {\n",
       "      border-color: transparent;\n",
       "      border-bottom-color: var(--fill-color);\n",
       "      border-left-color: var(--fill-color);\n",
       "    }\n",
       "    20% {\n",
       "      border-color: transparent;\n",
       "      border-left-color: var(--fill-color);\n",
       "      border-top-color: var(--fill-color);\n",
       "    }\n",
       "    30% {\n",
       "      border-color: transparent;\n",
       "      border-left-color: var(--fill-color);\n",
       "      border-top-color: var(--fill-color);\n",
       "      border-right-color: var(--fill-color);\n",
       "    }\n",
       "    40% {\n",
       "      border-color: transparent;\n",
       "      border-right-color: var(--fill-color);\n",
       "      border-top-color: var(--fill-color);\n",
       "    }\n",
       "    60% {\n",
       "      border-color: transparent;\n",
       "      border-right-color: var(--fill-color);\n",
       "    }\n",
       "    80% {\n",
       "      border-color: transparent;\n",
       "      border-right-color: var(--fill-color);\n",
       "      border-bottom-color: var(--fill-color);\n",
       "    }\n",
       "    90% {\n",
       "      border-color: transparent;\n",
       "      border-bottom-color: var(--fill-color);\n",
       "    }\n",
       "  }\n",
       "</style>\n",
       "\n",
       "  <script>\n",
       "    async function quickchart(key) {\n",
       "      const quickchartButtonEl =\n",
       "        document.querySelector('#' + key + ' button');\n",
       "      quickchartButtonEl.disabled = true;  // To prevent multiple clicks.\n",
       "      quickchartButtonEl.classList.add('colab-df-spinner');\n",
       "      try {\n",
       "        const charts = await google.colab.kernel.invokeFunction(\n",
       "            'suggestCharts', [key], {});\n",
       "      } catch (error) {\n",
       "        console.error('Error during call to suggestCharts:', error);\n",
       "      }\n",
       "      quickchartButtonEl.classList.remove('colab-df-spinner');\n",
       "      quickchartButtonEl.classList.add('colab-df-quickchart-complete');\n",
       "    }\n",
       "    (() => {\n",
       "      let quickchartButtonEl =\n",
       "        document.querySelector('#df-735bf119-7c34-4ca4-bb9c-c381992e1153 button');\n",
       "      quickchartButtonEl.style.display =\n",
       "        google.colab.kernel.accessAllowed ? 'block' : 'none';\n",
       "    })();\n",
       "  </script>\n",
       "</div>\n",
       "\n",
       "    </div>\n",
       "  </div>\n"
      ],
      "text/plain": [
       "                                            headline          label\n",
       "0  Samsung Galaxy M30s: ಲಭ್ಯವಾಗಲಿದೆ ಶಕ್ತಿಶಾಲಿ ಸ್ಮ...           tech\n",
       "1  ಯುವೆಂಟಸ್ ತಂಡ ಸೇರಿದ ಕ್ರಿಸ್ಟಿಯಾನೊ ರೊನಾಲ್ಡೊ\\nಯುವೆ...         sports\n",
       "2  ಬ್ಯಾಡ್ಮಿಂಟನ್‌: ಎರಡನೇ ಸುತ್ತಿಗೆ ಸಿಂಧು, ಸಮೀರ್‌\\nಬ...         sports\n",
       "3  ತಮ್ಮದು ಒಪ್ಪಿತ ʼಸಂಬಂಧʼ ಎಂದು ಹೇಳಿದ ನಟ\\n  12-05-2...  entertainment\n",
       "4  ಖ್ಯಾತ ಕ್ರಿಕೆಟಿಗನ ಪತ್ನಿ ನಿಧನ\\n  31-12-2018 7:57...         sports"
      ]
     },
     "execution_count": 4,
     "metadata": {},
     "output_type": "execute_result"
    }
   ],
   "source": [
    "df_train.head()"
   ]
  },
  {
   "cell_type": "code",
   "execution_count": null,
   "metadata": {
    "colab": {
     "base_uri": "https://localhost:8080/",
     "height": 477
    },
    "id": "GIDgI2QTWTil",
    "outputId": "c9c780ef-0f37-424d-c50b-f0879e0e9c34"
   },
   "outputs": [
    {
     "data": {
      "image/png": "[encoded data removed]",
      "text/plain": [
       "<Figure size 600x400 with 1 Axes>"
      ]
     },
     "metadata": {},
     "output_type": "display_data"
    }
   ],
   "source": [
    "# Class Distribution Plot\n",
    "plt.figure(figsize=(6, 4))\n",
    "sns.countplot(data=df_train, x='label', order=df_train['label'].value_counts().index)\n",
    "plt.title('Class Distribution in Training Data')\n",
    "plt.xlabel('News Labels')\n",
    "plt.ylabel('Count')\n",
    "plt.xticks(rotation=45)\n",
    "plt.show()"
   ]
  },
  {
   "cell_type": "code",
   "execution_count": null,
   "metadata": {
    "id": "iq1qIU61W0wj"
   },
   "outputs": [],
   "source": [
    "# Load Stopwords\n",
    "with open('/content/stop-words.txt', 'r', encoding='utf-8') as f:\n",
    "    stopwords = set(f.read().splitlines())"
   ]
  },
  {
   "cell_type": "code",
   "execution_count": null,
   "metadata": {
    "id": "Q04-jDTmW19y"
   },
   "outputs": [],
   "source": [
    "# Text Preprocessing\n",
    "def preprocess_text(text):\n",
    "    text = text.lower()\n",
    "    text = re.sub(r'[^a-zA-Z0-9\\u0C80-\\u0CFF\\s]', '', text)  # Keep alphanumeric and Kannada characters\n",
    "    text = ' '.join([word for word in text.split() if word not in stopwords])  # Remove stopwords\n",
    "    return text"
   ]
  },
  {
   "cell_type": "code",
   "execution_count": null,
   "metadata": {
    "id": "WwniXuWvW5Nl"
   },
   "outputs": [],
   "source": [
    "df_train['headline'] = df_train['headline'].apply(preprocess_text)\n",
    "df_valid['headline'] = df_valid['headline'].apply(preprocess_text)\n",
    "df_test['headline'] = df_test['headline'].apply(preprocess_text)"
   ]
  },
  {
   "cell_type": "code",
   "execution_count": null,
   "metadata": {
    "colab": {
     "base_uri": "https://localhost:8080/",
     "height": 342,
     "referenced_widgets": [
      "c35b197beb7f4aabbb7d748fcfb288ad",
      "6c9353cebf034631911300e16b0a4f39",
      "3804b327d11743e5ba0cadf6aa47d2a3",
      "6553250e2ac146638d76516fb4b0cc45",
      "5c6fe42616f54c578e3ade0f7d469c11",
      "8d3e338268eb4a7d9be3b3037b1e80f0",
      "3cdf6c2e2f3a4369951cbe82f49a4e77",
      "ceedceaaf29b4144b50ab387fae1d273",
      "7766ce9d989d4b5db379899c9de65414",
      "c159fc38ab9645baacd0394f737e4aeb",
      "c21f2af0992740fd81f4c612f6418e3e",
      "7db9f137caae4c3e9f003616e00034ee",
      "50e2c9884923464491e4e9bddeba82ee",
      "815c320f3cf94ee99228a02c42220ca9",
      "57615508e0e24f8f841a6d72b7263955",
      "e928788460cc46c5b0c2591cfa139fcb",
      "b8134263cbe2471182ce0f255d617703",
      "0d210eee59264843b3e11e624958fa5f",
      "9b15f63ba9c84aac97aefd7773569f28",
      "f3aa8c797a624c1f90dc234f9024c99b",
      "e5bebcc16cdf4dcc8170071d2e1ae8f2",
      "878765a520c5470fa8f30944ec92e814",
      "902009af9d794f90ad8d566ed64629e8",
      "d79e8966736f4ac794dac2116fc0d902",
      "104d5e0fe58d456089f9c4bca0a7be08",
      "b6c4b3b25b2f439691108e1f4da588b1",
      "de8b6585fbd4484c81f11bc74320036a",
      "9f826e20cf1c448281bbfde5018c7eb7",
      "3c1110dd163e4395a644b8d2e75e4c29",
      "628957ac18cb4a4fb52a1a19befee021",
      "64c1479291654f1683b3af800b8d597c",
      "ecd8da63e4094434bd242cd71f79b113",
      "c2fbc10fa1554aab95248ed50bd4d81f",
      "0dcd6917a85b4c5a8bd3f9c3f97ea79c",
      "4bf238f5f37746d68cb9ced0f04d8cc4",
      "c7b8d85ce9094e6bbeb8f61aa38ad164",
      "15807b3e93834ae9ab6594539178c7ba",
      "04fecb878e9f451a973964b02118ea74",
      "523e8912741e4aeebdf8a39868958f0b",
      "42eadc959dc24effad560d6de23e17fc",
      "133d54e464fc4a87bfc7e788f38d05f6",
      "f67ac968b7ba4882a3e645aea7ea4a0d",
      "c8f828a3d6ee46c1a4af393283a6c8d5",
      "e92368cac8664c408bd5115ed8f67d74",
      "ecab1014ee3f4a9c86760931cf3225a5",
      "7bbcabe4318644c492df53b084b96e80",
      "1cb41256a929409794cf9a591b5143c7",
      "6a7b839e6f014777b835bfc566e689ca",
      "023fc301c07f4b619dba2904b5d4fd6a",
      "2d94bd8dea1b4b45957fdf4991d03fc1",
      "7bcf8f0d9c4c489d871e42f49d57f25f",
      "a9c57f13a9e6469498e157397e9ed16c",
      "34a95cb14f4542b2a3f11b94680347a1",
      "df7cb2f9963b4cfdb389d6d523f763a3",
      "ebc8b28c38604a5899e4ad6060d6bb47"
     ]
    },
    "id": "JyHsCTdBW695",
    "outputId": "1ae123c7-fd5d-43dd-f8e0-6861e6597ac8"
   },
   "outputs": [
    {
     "name": "stderr",
     "output_type": "stream",
     "text": [
      "/usr/local/lib/python3.10/dist-packages/huggingface_hub/utils/_token.py:89: UserWarning: \n",
      "The secret `HF_TOKEN` does not exist in your Colab secrets.\n",
      "To authenticate with the Hugging Face Hub, create a token in your settings tab (https://huggingface.co/settings/tokens), set it as secret in your Google Colab and restart your session.\n",
      "You will be able to reuse this secret in all of your notebooks.\n",
      "Please note that authentication is recommended but still optional to access public models or datasets.\n",
      "  warnings.warn(\n"
     ]
    },
    {
     "data": {
      "application/vnd.jupyter.widget-view+json": {
       "model_id": "c35b197beb7f4aabbb7d748fcfb288ad",
       "version_major": 2,
       "version_minor": 0
      },
      "text/plain": [
       "tokenizer_config.json:   0%|          | 0.00/49.0 [00:00<?, ?B/s]"
      ]
     },
     "metadata": {},
     "output_type": "display_data"
    },
    {
     "data": {
      "application/vnd.jupyter.widget-view+json": {
       "model_id": "7db9f137caae4c3e9f003616e00034ee",
       "version_major": 2,
       "version_minor": 0
      },
      "text/plain": [
       "vocab.txt:   0%|          | 0.00/996k [00:00<?, ?B/s]"
      ]
     },
     "metadata": {},
     "output_type": "display_data"
    },
    {
     "data": {
      "application/vnd.jupyter.widget-view+json": {
       "model_id": "902009af9d794f90ad8d566ed64629e8",
       "version_major": 2,
       "version_minor": 0
      },
      "text/plain": [
       "tokenizer.json:   0%|          | 0.00/1.96M [00:00<?, ?B/s]"
      ]
     },
     "metadata": {},
     "output_type": "display_data"
    },
    {
     "data": {
      "application/vnd.jupyter.widget-view+json": {
       "model_id": "0dcd6917a85b4c5a8bd3f9c3f97ea79c",
       "version_major": 2,
       "version_minor": 0
      },
      "text/plain": [
       "config.json:   0%|          | 0.00/466 [00:00<?, ?B/s]"
      ]
     },
     "metadata": {},
     "output_type": "display_data"
    },
    {
     "name": "stderr",
     "output_type": "stream",
     "text": [
      "/usr/local/lib/python3.10/dist-packages/transformers/tokenization_utils_base.py:1601: FutureWarning: `clean_up_tokenization_spaces` was not set. It will be set to `True` by default. This behavior will be depracted in transformers v4.45, and will be then set to `False` by default. For more details check this issue: https://github.com/huggingface/transformers/issues/31884\n",
      "  warnings.warn(\n"
     ]
    },
    {
     "data": {
      "application/vnd.jupyter.widget-view+json": {
       "model_id": "ecab1014ee3f4a9c86760931cf3225a5",
       "version_major": 2,
       "version_minor": 0
      },
      "text/plain": [
       "model.safetensors:   0%|          | 0.00/542M [00:00<?, ?B/s]"
      ]
     },
     "metadata": {},
     "output_type": "display_data"
    }
   ],
   "source": [
    "# Tokenization and Model\n",
    "tokenizer = DistilBertTokenizer.from_pretrained('distilbert-base-multilingual-cased')\n",
    "distilbert_model = DistilBertModel.from_pretrained('distilbert-base-multilingual-cased')"
   ]
  },
  {
   "cell_type": "code",
   "execution_count": null,
   "metadata": {
    "id": "DZ_pZ7WZXAgB"
   },
   "outputs": [],
   "source": [
    "class NewsDataset(Dataset):\n",
    "    def __init__(self, texts, labels, tokenizer, max_len=128):\n",
    "        self.texts = texts\n",
    "        self.labels = labels\n",
    "        self.tokenizer = tokenizer\n",
    "        self.max_len = max_len\n",
    "\n",
    "    def __len__(self):\n",
    "        return len(self.texts)\n",
    "\n",
    "    def __getitem__(self, idx):\n",
    "        text = self.texts[idx]\n",
    "        label = self.labels[idx]\n",
    "\n",
    "        encoding = self.tokenizer.encode_plus(\n",
    "            text,                                   \n",
    "            add_special_tokens=True,\n",
    "            max_length=self.max_len,\n",
    "            padding='max_length',\n",
    "            truncation=True,\n",
    "            return_attention_mask=True,\n",
    "            return_tensors='pt',                    #Tokenizes the text using tokenizer.encode_plus, which handles:\n",
    "                                                    #Adding special tokens ([CLS], [SEP]).\n",
    "                                                    #Padding/truncating sequences to a fixed length (max_len).\n",
    "                                                    #Generating attention masks (1 for real tokens, 0 for padding).\n",
    "                                                    #Returns the tokenized inputs (input_ids, attention_mask) and the label as tensors.\n",
    "        ) \n",
    "\n",
    "        return {\n",
    "            'input_ids': encoding['input_ids'].flatten(),\n",
    "            'attention_mask': encoding['attention_mask'].flatten(),\n",
    "            'label': torch.tensor(label, dtype=torch.long)\n",
    "        }"
   ]
  },
  {
   "cell_type": "code",
   "execution_count": null,
   "metadata": {
    "id": "m0kQXlxBXBvS"
   },
   "outputs": [],
   "source": [
    "label_mapping = {label: idx for idx, label in enumerate(df_train['label'].unique())}\n",
    "df_train['label'] = df_train['label'].map(label_mapping)\n",
    "df_valid['label'] = df_valid['label'].map(label_mapping)\n",
    "df_test['label'] = df_test['label'].map(label_mapping)"
   ]
  },
  {
   "cell_type": "code",
   "execution_count": null,
   "metadata": {
    "id": "WTk_Wtj6XDLk"
   },
   "outputs": [],
   "source": [
    "train_data = NewsDataset(df_train['headline'].tolist(), df_train['label'].tolist(), tokenizer)\n",
    "valid_data = NewsDataset(df_valid['headline'].tolist(), df_valid['label'].tolist(), tokenizer)\n",
    "test_data = NewsDataset(df_test['headline'].tolist(), df_test['label'].tolist(), tokenizer)"
   ]
  },
  {
   "cell_type": "code",
   "execution_count": null,
   "metadata": {
    "id": "49_-083sXGcx"
   },
   "outputs": [],
   "source": [
    "train_loader = DataLoader(train_data, batch_size=32, shuffle=True)\n",
    "valid_loader = DataLoader(valid_data, batch_size=32)\n",
    "test_loader = DataLoader(test_data, batch_size=32)  \n",
    "#Creates PyTorch DataLoader objects for batching and shuffling datasets during training and evaluation."
   ]
  },
  {
   "cell_type": "code",
   "execution_count": null,
   "metadata": {
    "id": "vLCwoZNDXKZc"
   },
   "outputs": [],
   "source": [
    "# Model Definition\n",
    "class NewsClassifier(nn.Module):\n",
    "    def __init__(self, distilbert_model, n_classes):\n",
    "        super(NewsClassifier, self).__init__()\n",
    "        self.distilbert = distilbert_model\n",
    "        self.drop = nn.Dropout(p=0.3)\n",
    "        self.out = nn.Linear(self.distilbert.config.hidden_size, n_classes)\n",
    "\n",
    "    def forward(self, input_ids, attention_mask):\n",
    "        outputs = self.distilbert(input_ids=input_ids, attention_mask=attention_mask)\n",
    "        hidden_state = outputs.last_hidden_state\n",
    "        pooled_output = hidden_state[:, 0]  # Take the [CLS] token output\n",
    "        output = self.drop(pooled_output)\n",
    "        return self.out(output)\n",
    "\n",
    "model = NewsClassifier(distilbert_model, n_classes=len(label_mapping))"
   ]
  },
  {
   "cell_type": "code",
   "execution_count": null,
   "metadata": {
    "colab": {
     "base_uri": "https://localhost:8080/",
     "height": 677
    },
    "id": "4srwKw88YY18",
    "outputId": "353a1ce4-46d3-41b2-b1c4-8f60da063cc2"
   },
   "outputs": [
    {
     "data": {
      "image/png": "[encoded data removed]",
      "text/plain": [
       "<Figure size 1000x800 with 1 Axes>"
      ]
     },
     "metadata": {},
     "output_type": "display_data"
    }
   ],
   "source": [
    "import matplotlib.pyplot as plt\n",
    "import matplotlib.patches as patches\n",
    "\n",
    "def plot_model_architecture():\n",
    "    plt.figure(figsize=(10, 8))\n",
    "    plt.title('Model Architecture', fontsize=16)\n",
    "\n",
    "    # Create patches for the layers and components\n",
    "    input_layer_ids = patches.Rectangle((0.2, 0.8), 0.25, 0.1, edgecolor='black', facecolor='orange', lw=2)\n",
    "    input_layer_mask = patches.Rectangle((0.55, 0.8), 0.25, 0.1, edgecolor='black', facecolor='orange', lw=2)\n",
    "    distilbert_layer = patches.Rectangle((0.2, 0.6), 0.6, 0.1, edgecolor='black', facecolor='lightblue', lw=2)\n",
    "    dropout_layer = patches.Rectangle((0.4, 0.4), 0.2, 0.1, edgecolor='black', facecolor='lightgreen', lw=2)\n",
    "    output_layer = patches.Rectangle((0.4, 0.2), 0.2, 0.1, edgecolor='black', facecolor='pink', lw=2)\n",
    "\n",
    "    # Add patches to the plot\n",
    "    ax = plt.gca()\n",
    "    ax.add_patch(input_layer_ids)\n",
    "    ax.add_patch(input_layer_mask)\n",
    "    ax.add_patch(distilbert_layer)\n",
    "    ax.add_patch(dropout_layer)\n",
    "    ax.add_patch(output_layer)\n",
    "\n",
    "    # Annotate the layers\n",
    "    plt.text(0.35, 0.85, 'Input Layer\\n(input_ids)', fontsize=12, ha='center', va='center')\n",
    "    plt.text(0.65, 0.85, 'Input Layer\\n(attention_mask)', fontsize=12, ha='center', va='center')\n",
    "    plt.text(0.5, 0.65, 'DistilBERT\\n(Feature Extraction + Attention)', fontsize=12, ha='center', va='center')\n",
    "    plt.text(0.5, 0.45, 'Dropout\\n(Regularization)', fontsize=12, ha='center', va='center')\n",
    "    plt.text(0.5, 0.25, 'Output Layer\\n(Classification)', fontsize=12, ha='center', va='center')\n",
    "\n",
    "    # Draw arrows\n",
    "    plt.arrow(0.35, 0.8, 0, -0.05, head_width=0.02, head_length=0.03, fc='black', ec='black')\n",
    "    plt.arrow(0.8, 0.8, 0, -0.05, head_width=0.02, head_length=0.03, fc='black', ec='black')\n",
    "    plt.arrow(0.5, 0.6, 0, -0.05, head_width=0.02, head_length=0.03, fc='black', ec='black')\n",
    "    plt.arrow(0.5, 0.4, 0, -0.05, head_width=0.02, head_length=0.03, fc='black', ec='black')\n",
    "\n",
    "    # Set limits and hide axes\n",
    "    plt.xlim(0, 1)\n",
    "    plt.ylim(0, 1)\n",
    "    plt.axis('off')\n",
    "    plt.show()\n",
    "\n",
    "# Call the function to plot the updated model architecture\n",
    "plot_model_architecture()\n",
    "\n"
   ]
  },
  {
   "cell_type": "code",
   "execution_count": null,
   "metadata": {
    "id": "EAwLSEtgXLXi"
   },
   "outputs": [],
   "source": [
    "# Training and Evaluation\n",
    "device = torch.device(\"cuda\" if torch.cuda.is_available() else \"cpu\")\n",
    "model = model.to(device)\n",
    "\n",
    "optimizer = torch.optim.Adam(model.parameters(), lr=2e-5)\n",
    "criterion = nn.CrossEntropyLoss()"
   ]
  },
  {
   "cell_type": "code",
   "execution_count": null,
   "metadata": {
    "id": "jCZ7cTcsXPbt"
   },
   "outputs": [],
   "source": [
    "def train_epoch(model, data_loader, optimizer, criterion, device):\n",
    "    model.train()\n",
    "    correct_predictions = 0\n",
    "    total_loss = 0\n",
    "\n",
    "    for batch in tqdm(data_loader):\n",
    "        input_ids = batch['input_ids'].to(device)\n",
    "        attention_mask = batch['attention_mask'].to(device)\n",
    "        labels = batch['label'].to(device)\n",
    "\n",
    "        outputs = model(input_ids, attention_mask)\n",
    "        _, preds = torch.max(outputs, dim=1)\n",
    "        loss = criterion(outputs, labels)\n",
    "\n",
    "        correct_predictions += torch.sum(preds == labels)\n",
    "        total_loss += loss.item()\n",
    "\n",
    "        optimizer.zero_grad()\n",
    "        loss.backward()\n",
    "        optimizer.step()\n",
    "\n",
    "    return correct_predictions.double() / len(data_loader.dataset), total_loss / len(data_loader)"
   ]
  },
  {
   "cell_type": "code",
   "execution_count": null,
   "metadata": {
    "id": "1QE_Qb7DXT8O"
   },
   "outputs": [],
   "source": [
    "def eval_model(model, data_loader, criterion, device):\n",
    "    model.eval()\n",
    "    correct_predictions = 0\n",
    "    total_loss = 0\n",
    "\n",
    "    with torch.no_grad():\n",
    "        for batch in data_loader:\n",
    "            input_ids = batch['input_ids'].to(device)\n",
    "            attention_mask = batch['attention_mask'].to(device)\n",
    "            labels = batch['label'].to(device)\n",
    "\n",
    "            outputs = model(input_ids, attention_mask)\n",
    "            _, preds = torch.max(outputs, dim=1)\n",
    "            loss = criterion(outputs, labels)\n",
    "\n",
    "            correct_predictions += torch.sum(preds == labels)\n",
    "            total_loss += loss.item()\n",
    "\n",
    "    return correct_predictions.double() / len(data_loader.dataset), total_loss / len(data_loader)"
   ]
  },
  {
   "cell_type": "code",
   "execution_count": null,
   "metadata": {
    "id": "3JvXe1inbF3V"
   },
   "outputs": [],
   "source": [
    "train_acc_list = []\n",
    "val_acc_list = []\n",
    "train_loss_list = []\n",
    "val_loss_list = []"
   ]
  },
  {
   "cell_type": "code",
   "execution_count": null,
   "metadata": {
    "colab": {
     "base_uri": "https://localhost:8080/"
    },
    "id": "jr53iNt0IYSK",
    "outputId": "1ac14f0f-e792-4a3d-fc40-16fa04912420"
   },
   "outputs": [
    {
     "name": "stdout",
     "output_type": "stream",
     "text": [
      "Epoch 1/5\n"
     ]
    },
    {
     "name": "stderr",
     "output_type": "stream",
     "text": [
      "100%|██████████| 912/912 [15:25<00:00,  1.01s/it]\n"
     ]
    },
    {
     "name": "stdout",
     "output_type": "stream",
     "text": [
      "Train loss 0.23730893832020739, accuracy 0.9103438817842082\n",
      "Validation loss 0.12748197734355926, accuracy 0.954\n",
      "Epoch 2/5\n"
     ]
    },
    {
     "name": "stderr",
     "output_type": "stream",
     "text": [
      "100%|██████████| 912/912 [15:28<00:00,  1.02s/it]\n"
     ]
    },
    {
     "name": "stdout",
     "output_type": "stream",
     "text": [
      "Train loss 0.10784141175686832, accuracy 0.9621490040113827\n",
      "Validation loss 0.08813012699037791, accuracy 0.9675\n",
      "Epoch 3/5\n"
     ]
    },
    {
     "name": "stderr",
     "output_type": "stream",
     "text": [
      "100%|██████████| 912/912 [15:33<00:00,  1.02s/it]\n"
     ]
    },
    {
     "name": "stdout",
     "output_type": "stream",
     "text": [
      "Train loss 0.0733483675244395, accuracy 0.9731888778413961\n",
      "Validation loss 0.09046041843295097, accuracy 0.96725\n",
      "Epoch 4/5\n"
     ]
    },
    {
     "name": "stderr",
     "output_type": "stream",
     "text": [
      "100%|██████████| 912/912 [15:34<00:00,  1.02s/it]\n"
     ]
    },
    {
     "name": "stdout",
     "output_type": "stream",
     "text": [
      "Train loss 0.05399851373735337, accuracy 0.9798745157198203\n",
      "Validation loss 0.09687195586506277, accuracy 0.96525\n",
      "Epoch 5/5\n"
     ]
    },
    {
     "name": "stderr",
     "output_type": "stream",
     "text": [
      "100%|██████████| 912/912 [15:56<00:00,  1.05s/it]\n"
     ]
    },
    {
     "name": "stdout",
     "output_type": "stream",
     "text": [
      "Train loss 0.04378025851129726, accuracy 0.9837144718346076\n",
      "Validation loss 0.09395988931320608, accuracy 0.969\n"
     ]
    }
   ],
   "source": [
    "# Training Loop\n",
    "epochs = 5\n",
    "for epoch in range(epochs):\n",
    "    print(f\"Epoch {epoch + 1}/{epochs}\")\n",
    "    train_acc, train_loss = train_epoch(model, train_loader, optimizer, criterion, device)\n",
    "    train_acc_list.append(train_acc.item())\n",
    "    train_loss_list.append(train_loss)\n",
    "    print(f\"Train loss {train_loss}, accuracy {train_acc}\")\n",
    "\n",
    "    val_acc, val_loss = eval_model(model, valid_loader, criterion, device)\n",
    "    val_acc_list.append(val_acc.item())\n",
    "    val_loss_list.append(val_loss)\n",
    "    print(f\"Validation loss {val_loss}, accuracy {val_acc}\")"
   ]
  },
  {
   "cell_type": "code",
   "execution_count": null,
   "metadata": {
    "colab": {
     "base_uri": "https://localhost:8080/"
    },
    "id": "dJHC57MjZZcQ",
    "outputId": "d58c3c48-03a5-4e56-eb14-111aea3e477b"
   },
   "outputs": [
    {
     "name": "stdout",
     "output_type": "stream",
     "text": [
      "Test Accuracy: 0.9665958092924385\n"
     ]
    }
   ],
   "source": [
    "# Testing and Report\n",
    "test_acc, _ = eval_model(model, test_loader, criterion, device)\n",
    "print(f\"Test Accuracy: {test_acc}\")\n",
    "\n",
    "# Classification Report\n",
    "all_preds, all_labels = [], []"
   ]
  },
  {
   "cell_type": "code",
   "execution_count": null,
   "metadata": {
    "id": "Bq2h_E3HZZSB"
   },
   "outputs": [],
   "source": [
    "model.eval()\n",
    "with torch.no_grad():\n",
    "    for batch in test_loader:\n",
    "        input_ids = batch['input_ids'].to(device)\n",
    "        attention_mask = batch['attention_mask'].to(device)\n",
    "        labels = batch['label'].to(device)\n",
    "\n",
    "        outputs = model(input_ids, attention_mask)\n",
    "        _, preds = torch.max(outputs, dim=1)\n",
    "\n",
    "        all_preds.extend(preds.cpu().numpy())\n",
    "        all_labels.extend(labels.cpu().numpy())"
   ]
  },
  {
   "cell_type": "code",
   "execution_count": null,
   "metadata": {
    "colab": {
     "base_uri": "https://localhost:8080/"
    },
    "id": "pJOEHvq7nrIC",
    "outputId": "4c9fc671-9231-41a2-f84c-8c70ea17560e"
   },
   "outputs": [
    {
     "name": "stdout",
     "output_type": "stream",
     "text": [
      "Number of Predictions: 3293\n",
      "Number of True Labels: 3293\n",
      "Sample Predictions: [3, 2, 2, 1, 1, 1, 1, 3, 3, 2]\n",
      "Sample True Labels: [2, 2, 2, 1, 1, 1, 1, 3, 3, 2]\n"
     ]
    }
   ],
   "source": [
    "print(\"Number of Predictions:\", len(all_preds))\n",
    "print(\"Number of True Labels:\", len(all_labels))\n",
    "print(\"Sample Predictions:\", all_preds[:10])\n",
    "print(\"Sample True Labels:\", all_labels[:10])"
   ]
  },
  {
   "cell_type": "code",
   "execution_count": null,
   "metadata": {
    "colab": {
     "base_uri": "https://localhost:8080/",
     "height": 707
    },
    "id": "YrhWuqfWnguZ",
    "outputId": "8814c0f2-d17d-447a-aa4a-c6f41c6366f8"
   },
   "outputs": [
    {
     "data": {
      "image/png": "[encoded data removed]",
      "text/plain": [
       "<Figure size 800x700 with 1 Axes>"
      ]
     },
     "metadata": {},
     "output_type": "display_data"
    }
   ],
   "source": [
    "from sklearn.metrics import confusion_matrix\n",
    "\n",
    "cm = confusion_matrix(all_labels, all_preds)\n",
    "\n",
    "classes = label_mapping.keys()\n",
    "\n",
    "# Plotting the confusion matrix\n",
    "def plot_confusion_matrix(cm, classes, title='Confusion Matrix', cmap=plt.cm.Blues):\n",
    "    plt.figure(figsize=(8, 7))\n",
    "    sns.heatmap(cm, annot=True, fmt='d', cmap=cmap,\n",
    "                xticklabels=classes, yticklabels=classes,\n",
    "                cbar=False)\n",
    "    plt.title(title)\n",
    "    plt.ylabel('True label')\n",
    "    plt.xlabel('Predicted label')\n",
    "    plt.tight_layout()\n",
    "    plt.show()\n",
    "\n",
    "# Call the plotting function\n",
    "plot_confusion_matrix(cm, classes)"
   ]
  },
  {
   "cell_type": "code",
   "execution_count": null,
   "metadata": {
    "colab": {
     "base_uri": "https://localhost:8080/",
     "height": 476
    },
    "id": "bw_WA5RLZjNi",
    "outputId": "eb57f2a1-4346-4b98-ba1a-bda859e653cd"
   },
   "outputs": [
    {
     "data": {
      "image/png": "[encoded data removed]",
      "text/plain": [
       "<Figure size 1200x500 with 2 Axes>"
      ]
     },
     "metadata": {},
     "output_type": "display_data"
    }
   ],
   "source": [
    "# Plotting Training and Validation Accuracy\n",
    "plt.figure(figsize=(12, 5))\n",
    "\n",
    "# Accuracy\n",
    "plt.subplot(1, 2, 1)\n",
    "plt.plot(range(1, epochs + 1), train_acc_list, label='Train Accuracy', marker='o')\n",
    "plt.plot(range(1, epochs + 1), val_acc_list, label='Validation Accuracy', marker='o')\n",
    "plt.title('Training and Validation Accuracy')\n",
    "plt.xlabel('Epochs')\n",
    "plt.ylabel('Accuracy')\n",
    "plt.legend()\n",
    "plt.grid()\n",
    "\n",
    "# Loss\n",
    "plt.subplot(1, 2, 2)\n",
    "plt.plot(range(1, epochs + 1), train_loss_list, label='Train Loss', marker='o')\n",
    "plt.plot(range(1, epochs + 1), val_loss_list, label='Validation Loss', marker='o')\n",
    "plt.title('Training and Validation Loss')\n",
    "plt.xlabel('Epochs')\n",
    "plt.ylabel('Loss')\n",
    "plt.legend()\n",
    "plt.grid()\n",
    "\n",
    "plt.tight_layout()\n",
    "plt.show()"
   ]
  },
  {
   "cell_type": "code",
   "execution_count": null,
   "metadata": {
    "colab": {
     "base_uri": "https://localhost:8080/"
    },
    "id": "4a2gegw9V5zK",
    "outputId": "13a66fe6-563a-4d44-cf13-a355b9e970e4"
   },
   "outputs": [
    {
     "name": "stdout",
     "output_type": "stream",
     "text": [
      "               precision    recall  f1-score   support\n",
      "\n",
      "         tech       0.94      0.93      0.93        81\n",
      "       sports       0.96      0.96      0.96      1115\n",
      "entertainment       0.96      0.96      0.96      1202\n",
      "    lifestyle       0.99      0.99      0.99       895\n",
      "\n",
      "     accuracy                           0.97      3293\n",
      "    macro avg       0.96      0.96      0.96      3293\n",
      " weighted avg       0.97      0.97      0.97      3293\n",
      "\n"
     ]
    }
   ],
   "source": [
    "print(classification_report(all_labels, all_preds, target_names=label_mapping.keys()))"
   ]
  },
  {
   "cell_type": "code",
   "execution_count": null,
   "metadata": {
    "id": "vQ0YodoIYkc6"
   },
   "outputs": [],
   "source": [
    "unseen_news = (\n",
    "    \"ಭಾರತ ಬಿಡುತ್ತೇವೆ ಹೊರತು ನಿಮ್ಮ ನಿಯಮ ಪಾಲಿಸಲು ಆಗುವುದಿಲ್ಲ ಎಂದ ವಾಟ್ಸಾಪ್‌: ಹಾಗಿದ್ರೆ ವಾಟ್ಸಾಪ್‌ ದೇಶ ಬಿಡುತ್ತಾ?\"\n",
    ")"
   ]
  },
  {
   "cell_type": "code",
   "execution_count": null,
   "metadata": {
    "id": "1cdRRvJFo50m"
   },
   "outputs": [],
   "source": [
    "def predict_news_class(news_text):\n",
    "    # Tokenize the input text\n",
    "    inputs = tokenizer(news_text, return_tensors='pt', padding=True, truncation=True, max_length=512)\n",
    "\n",
    "    # Move inputs to the same device as the model\n",
    "    inputs = {key: val.to(device) for key, val in inputs.items()}\n",
    "\n",
    "    # prediction\n",
    "    with torch.no_grad():  # Disable gradient calculation for inference\n",
    "        outputs = model(input_ids=inputs['input_ids'], attention_mask=inputs['attention_mask'])\n",
    "\n",
    "    # Get the predicted class\n",
    "    predicted_class_index = torch.argmax(outputs, dim=1).item()\n",
    "\n",
    "    # Map index to class label\n",
    "    predicted_class = list(label_mapping.keys())[predicted_class_index]\n",
    "\n",
    "    return predicted_class"
   ]
  },
  {
   "cell_type": "code",
   "execution_count": null,
   "metadata": {
    "colab": {
     "base_uri": "https://localhost:8080/"
    },
    "id": "dOQ2TX5ZpFqa",
    "outputId": "56778da8-efb1-4c70-fb3a-5be10ef95638"
   },
   "outputs": [
    {
     "name": "stdout",
     "output_type": "stream",
     "text": [
      "The predicted class for the given news article is: tech\n"
     ]
    }
   ],
   "source": [
    "# Predict the class of the unseen news\n",
    "predicted_class = predict_news_class(unseen_news)\n",
    "print(f\"The predicted class for the given news article is: {predicted_class}\")"
   ]
  },
  {
   "cell_type": "markdown",
   "metadata": {
    "id": "vJNyqq8dPvVy"
   },
   "source": [
    "The model correctly predicted the \"Tech\" class."
   ]
  }
 ],
 "metadata": {
  "accelerator": "TPU",
  "colab": {
   "gpuType": "V28",
   "provenance": []
  },
  "kernelspec": {
   "display_name": "Python 3",
   "name": "python3"
  },
  "language_info": {
   "name": "python"
  },
  "widgets": {
   "application/vnd.jupyter.widget-state+json": {
    "023fc301c07f4b619dba2904b5d4fd6a": {
     "model_module": "@jupyter-widgets/base",
     "model_module_version": "1.2.0",
     "model_name": "LayoutModel",
     "state": {
      "_model_module": "@jupyter-widgets/base",
      "_model_module_version": "1.2.0",
      "_model_name": "LayoutModel",
      "_view_count": null,
      "_view_module": "@jupyter-widgets/base",
      "_view_module_version": "1.2.0",
      "_view_name": "LayoutView",
      "align_content": null,
      "align_items": null,
      "align_self": null,
      "border": null,
      "bottom": null,
      "display": null,
      "flex": null,
      "flex_flow": null,
      "grid_area": null,
      "grid_auto_columns": null,
      "grid_auto_flow": null,
      "grid_auto_rows": null,
      "grid_column": null,
      "grid_gap": null,
      "grid_row": null,
      "grid_template_areas": null,
      "grid_template_columns": null,
      "grid_template_rows": null,
      "height": null,
      "justify_content": null,
      "justify_items": null,
      "left": null,
      "margin": null,
      "max_height": null,
      "max_width": null,
      "min_height": null,
      "min_width": null,
      "object_fit": null,
      "object_position": null,
      "order": null,
      "overflow": null,
      "overflow_x": null,
      "overflow_y": null,
      "padding": null,
      "right": null,
      "top": null,
      "visibility": null,
      "width": null
     }
    },
    "04fecb878e9f451a973964b02118ea74": {
     "model_module": "@jupyter-widgets/base",
     "model_module_version": "1.2.0",
     "model_name": "LayoutModel",
     "state": {
      "_model_module": "@jupyter-widgets/base",
      "_model_module_version": "1.2.0",
      "_model_name": "LayoutModel",
      "_view_count": null,
      "_view_module": "@jupyter-widgets/base",
      "_view_module_version": "1.2.0",
      "_view_name": "LayoutView",
      "align_content": null,
      "align_items": null,
      "align_self": null,
      "border": null,
      "bottom": null,
      "display": null,
      "flex": null,
      "flex_flow": null,
      "grid_area": null,
      "grid_auto_columns": null,
      "grid_auto_flow": null,
      "grid_auto_rows": null,
      "grid_column": null,
      "grid_gap": null,
      "grid_row": null,
      "grid_template_areas": null,
      "grid_template_columns": null,
      "grid_template_rows": null,
      "height": null,
      "justify_content": null,
      "justify_items": null,
      "left": null,
      "margin": null,
      "max_height": null,
      "max_width": null,
      "min_height": null,
      "min_width": null,
      "object_fit": null,
      "object_position": null,
      "order": null,
      "overflow": null,
      "overflow_x": null,
      "overflow_y": null,
      "padding": null,
      "right": null,
      "top": null,
      "visibility": null,
      "width": null
     }
    },
    "0d210eee59264843b3e11e624958fa5f": {
     "model_module": "@jupyter-widgets/controls",
     "model_module_version": "1.5.0",
     "model_name": "DescriptionStyleModel",
     "state": {
      "_model_module": "@jupyter-widgets/controls",
      "_model_module_version": "1.5.0",
      "_model_name": "DescriptionStyleModel",
      "_view_count": null,
      "_view_module": "@jupyter-widgets/base",
      "_view_module_version": "1.2.0",
      "_view_name": "StyleView",
      "description_width": ""
     }
    },
    "0dcd6917a85b4c5a8bd3f9c3f97ea79c": {
     "model_module": "@jupyter-widgets/controls",
     "model_module_version": "1.5.0",
     "model_name": "HBoxModel",
     "state": {
      "_dom_classes": [],
      "_model_module": "@jupyter-widgets/controls",
      "_model_module_version": "1.5.0",
      "_model_name": "HBoxModel",
      "_view_count": null,
      "_view_module": "@jupyter-widgets/controls",
      "_view_module_version": "1.5.0",
      "_view_name": "HBoxView",
      "box_style": "",
      "children": [
       "IPY_MODEL_4bf238f5f37746d68cb9ced0f04d8cc4",
       "IPY_MODEL_c7b8d85ce9094e6bbeb8f61aa38ad164",
       "IPY_MODEL_15807b3e93834ae9ab6594539178c7ba"
      ],
      "layout": "IPY_MODEL_04fecb878e9f451a973964b02118ea74"
     }
    },
    "104d5e0fe58d456089f9c4bca0a7be08": {
     "model_module": "@jupyter-widgets/controls",
     "model_module_version": "1.5.0",
     "model_name": "FloatProgressModel",
     "state": {
      "_dom_classes": [],
      "_model_module": "@jupyter-widgets/controls",
      "_model_module_version": "1.5.0",
      "_model_name": "FloatProgressModel",
      "_view_count": null,
      "_view_module": "@jupyter-widgets/controls",
      "_view_module_version": "1.5.0",
      "_view_name": "ProgressView",
      "bar_style": "success",
      "description": "",
      "description_tooltip": null,
      "layout": "IPY_MODEL_628957ac18cb4a4fb52a1a19befee021",
      "max": 1961828,
      "min": 0,
      "orientation": "horizontal",
      "style": "IPY_MODEL_64c1479291654f1683b3af800b8d597c",
      "value": 1961828
     }
    },
    "133d54e464fc4a87bfc7e788f38d05f6": {
     "model_module": "@jupyter-widgets/base",
     "model_module_version": "1.2.0",
     "model_name": "LayoutModel",
     "state": {
      "_model_module": "@jupyter-widgets/base",
      "_model_module_version": "1.2.0",
      "_model_name": "LayoutModel",
      "_view_count": null,
      "_view_module": "@jupyter-widgets/base",
      "_view_module_version": "1.2.0",
      "_view_name": "LayoutView",
      "align_content": null,
      "align_items": null,
      "align_self": null,
      "border": null,
      "bottom": null,
      "display": null,
      "flex": null,
      "flex_flow": null,
      "grid_area": null,
      "grid_auto_columns": null,
      "grid_auto_flow": null,
      "grid_auto_rows": null,
      "grid_column": null,
      "grid_gap": null,
      "grid_row": null,
      "grid_template_areas": null,
      "grid_template_columns": null,
      "grid_template_rows": null,
      "height": null,
      "justify_content": null,
      "justify_items": null,
      "left": null,
      "margin": null,
      "max_height": null,
      "max_width": null,
      "min_height": null,
      "min_width": null,
      "object_fit": null,
      "object_position": null,
      "order": null,
      "overflow": null,
      "overflow_x": null,
      "overflow_y": null,
      "padding": null,
      "right": null,
      "top": null,
      "visibility": null,
      "width": null
     }
    },
    "15807b3e93834ae9ab6594539178c7ba": {
     "model_module": "@jupyter-widgets/controls",
     "model_module_version": "1.5.0",
     "model_name": "HTMLModel",
     "state": {
      "_dom_classes": [],
      "_model_module": "@jupyter-widgets/controls",
      "_model_module_version": "1.5.0",
      "_model_name": "HTMLModel",
      "_view_count": null,
      "_view_module": "@jupyter-widgets/controls",
      "_view_module_version": "1.5.0",
      "_view_name": "HTMLView",
      "description": "",
      "description_tooltip": null,
      "layout": "IPY_MODEL_c8f828a3d6ee46c1a4af393283a6c8d5",
      "placeholder": "​",
      "style": "IPY_MODEL_e92368cac8664c408bd5115ed8f67d74",
      "value": " 466/466 [00:00&lt;00:00, 41.3kB/s]"
     }
    },
    "1cb41256a929409794cf9a591b5143c7": {
     "model_module": "@jupyter-widgets/controls",
     "model_module_version": "1.5.0",
     "model_name": "FloatProgressModel",
     "state": {
      "_dom_classes": [],
      "_model_module": "@jupyter-widgets/controls",
      "_model_module_version": "1.5.0",
      "_model_name": "FloatProgressModel",
      "_view_count": null,
      "_view_module": "@jupyter-widgets/controls",
      "_view_module_version": "1.5.0",
      "_view_name": "ProgressView",
      "bar_style": "success",
      "description": "",
      "description_tooltip": null,
      "layout": "IPY_MODEL_a9c57f13a9e6469498e157397e9ed16c",
      "max": 541795680,
      "min": 0,
      "orientation": "horizontal",
      "style": "IPY_MODEL_34a95cb14f4542b2a3f11b94680347a1",
      "value": 541795680
     }
    },
    "2d94bd8dea1b4b45957fdf4991d03fc1": {
     "model_module": "@jupyter-widgets/base",
     "model_module_version": "1.2.0",
     "model_name": "LayoutModel",
     "state": {
      "_model_module": "@jupyter-widgets/base",
      "_model_module_version": "1.2.0",
      "_model_name": "LayoutModel",
      "_view_count": null,
      "_view_module": "@jupyter-widgets/base",
      "_view_module_version": "1.2.0",
      "_view_name": "LayoutView",
      "align_content": null,
      "align_items": null,
      "align_self": null,
      "border": null,
      "bottom": null,
      "display": null,
      "flex": null,
      "flex_flow": null,
      "grid_area": null,
      "grid_auto_columns": null,
      "grid_auto_flow": null,
      "grid_auto_rows": null,
      "grid_column": null,
      "grid_gap": null,
      "grid_row": null,
      "grid_template_areas": null,
      "grid_template_columns": null,
      "grid_template_rows": null,
      "height": null,
      "justify_content": null,
      "justify_items": null,
      "left": null,
      "margin": null,
      "max_height": null,
      "max_width": null,
      "min_height": null,
      "min_width": null,
      "object_fit": null,
      "object_position": null,
      "order": null,
      "overflow": null,
      "overflow_x": null,
      "overflow_y": null,
      "padding": null,
      "right": null,
      "top": null,
      "visibility": null,
      "width": null
     }
    },
    "34a95cb14f4542b2a3f11b94680347a1": {
     "model_module": "@jupyter-widgets/controls",
     "model_module_version": "1.5.0",
     "model_name": "ProgressStyleModel",
     "state": {
      "_model_module": "@jupyter-widgets/controls",
      "_model_module_version": "1.5.0",
      "_model_name": "ProgressStyleModel",
      "_view_count": null,
      "_view_module": "@jupyter-widgets/base",
      "_view_module_version": "1.2.0",
      "_view_name": "StyleView",
      "bar_color": null,
      "description_width": ""
     }
    },
    "3804b327d11743e5ba0cadf6aa47d2a3": {
     "model_module": "@jupyter-widgets/controls",
     "model_module_version": "1.5.0",
     "model_name": "FloatProgressModel",
     "state": {
      "_dom_classes": [],
      "_model_module": "@jupyter-widgets/controls",
      "_model_module_version": "1.5.0",
      "_model_name": "FloatProgressModel",
      "_view_count": null,
      "_view_module": "@jupyter-widgets/controls",
      "_view_module_version": "1.5.0",
      "_view_name": "ProgressView",
      "bar_style": "success",
      "description": "",
      "description_tooltip": null,
      "layout": "IPY_MODEL_ceedceaaf29b4144b50ab387fae1d273",
      "max": 49,
      "min": 0,
      "orientation": "horizontal",
      "style": "IPY_MODEL_7766ce9d989d4b5db379899c9de65414",
      "value": 49
     }
    },
    "3c1110dd163e4395a644b8d2e75e4c29": {
     "model_module": "@jupyter-widgets/controls",
     "model_module_version": "1.5.0",
     "model_name": "DescriptionStyleModel",
     "state": {
      "_model_module": "@jupyter-widgets/controls",
      "_model_module_version": "1.5.0",
      "_model_name": "DescriptionStyleModel",
      "_view_count": null,
      "_view_module": "@jupyter-widgets/base",
      "_view_module_version": "1.2.0",
      "_view_name": "StyleView",
      "description_width": ""
     }
    },
    "3cdf6c2e2f3a4369951cbe82f49a4e77": {
     "model_module": "@jupyter-widgets/controls",
     "model_module_version": "1.5.0",
     "model_name": "DescriptionStyleModel",
     "state": {
      "_model_module": "@jupyter-widgets/controls",
      "_model_module_version": "1.5.0",
      "_model_name": "DescriptionStyleModel",
      "_view_count": null,
      "_view_module": "@jupyter-widgets/base",
      "_view_module_version": "1.2.0",
      "_view_name": "StyleView",
      "description_width": ""
     }
    },
    "42eadc959dc24effad560d6de23e17fc": {
     "model_module": "@jupyter-widgets/controls",
     "model_module_version": "1.5.0",
     "model_name": "DescriptionStyleModel",
     "state": {
      "_model_module": "@jupyter-widgets/controls",
      "_model_module_version": "1.5.0",
      "_model_name": "DescriptionStyleModel",
      "_view_count": null,
      "_view_module": "@jupyter-widgets/base",
      "_view_module_version": "1.2.0",
      "_view_name": "StyleView",
      "description_width": ""
     }
    },
    "4bf238f5f37746d68cb9ced0f04d8cc4": {
     "model_module": "@jupyter-widgets/controls",
     "model_module_version": "1.5.0",
     "model_name": "HTMLModel",
     "state": {
      "_dom_classes": [],
      "_model_module": "@jupyter-widgets/controls",
      "_model_module_version": "1.5.0",
      "_model_name": "HTMLModel",
      "_view_count": null,
      "_view_module": "@jupyter-widgets/controls",
      "_view_module_version": "1.5.0",
      "_view_name": "HTMLView",
      "description": "",
      "description_tooltip": null,
      "layout": "IPY_MODEL_523e8912741e4aeebdf8a39868958f0b",
      "placeholder": "​",
      "style": "IPY_MODEL_42eadc959dc24effad560d6de23e17fc",
      "value": "config.json: 100%"
     }
    },
    "50e2c9884923464491e4e9bddeba82ee": {
     "model_module": "@jupyter-widgets/controls",
     "model_module_version": "1.5.0",
     "model_name": "HTMLModel",
     "state": {
      "_dom_classes": [],
      "_model_module": "@jupyter-widgets/controls",
      "_model_module_version": "1.5.0",
      "_model_name": "HTMLModel",
      "_view_count": null,
      "_view_module": "@jupyter-widgets/controls",
      "_view_module_version": "1.5.0",
      "_view_name": "HTMLView",
      "description": "",
      "description_tooltip": null,
      "layout": "IPY_MODEL_b8134263cbe2471182ce0f255d617703",
      "placeholder": "​",
      "style": "IPY_MODEL_0d210eee59264843b3e11e624958fa5f",
      "value": "vocab.txt: 100%"
     }
    },
    "523e8912741e4aeebdf8a39868958f0b": {
     "model_module": "@jupyter-widgets/base",
     "model_module_version": "1.2.0",
     "model_name": "LayoutModel",
     "state": {
      "_model_module": "@jupyter-widgets/base",
      "_model_module_version": "1.2.0",
      "_model_name": "LayoutModel",
      "_view_count": null,
      "_view_module": "@jupyter-widgets/base",
      "_view_module_version": "1.2.0",
      "_view_name": "LayoutView",
      "align_content": null,
      "align_items": null,
      "align_self": null,
      "border": null,
      "bottom": null,
      "display": null,
      "flex": null,
      "flex_flow": null,
      "grid_area": null,
      "grid_auto_columns": null,
      "grid_auto_flow": null,
      "grid_auto_rows": null,
      "grid_column": null,
      "grid_gap": null,
      "grid_row": null,
      "grid_template_areas": null,
      "grid_template_columns": null,
      "grid_template_rows": null,
      "height": null,
      "justify_content": null,
      "justify_items": null,
      "left": null,
      "margin": null,
      "max_height": null,
      "max_width": null,
      "min_height": null,
      "min_width": null,
      "object_fit": null,
      "object_position": null,
      "order": null,
      "overflow": null,
      "overflow_x": null,
      "overflow_y": null,
      "padding": null,
      "right": null,
      "top": null,
      "visibility": null,
      "width": null
     }
    },
    "57615508e0e24f8f841a6d72b7263955": {
     "model_module": "@jupyter-widgets/controls",
     "model_module_version": "1.5.0",
     "model_name": "HTMLModel",
     "state": {
      "_dom_classes": [],
      "_model_module": "@jupyter-widgets/controls",
      "_model_module_version": "1.5.0",
      "_model_name": "HTMLModel",
      "_view_count": null,
      "_view_module": "@jupyter-widgets/controls",
      "_view_module_version": "1.5.0",
      "_view_name": "HTMLView",
      "description": "",
      "description_tooltip": null,
      "layout": "IPY_MODEL_e5bebcc16cdf4dcc8170071d2e1ae8f2",
      "placeholder": "​",
      "style": "IPY_MODEL_878765a520c5470fa8f30944ec92e814",
      "value": " 996k/996k [00:00&lt;00:00, 7.65MB/s]"
     }
    },
    "5c6fe42616f54c578e3ade0f7d469c11": {
     "model_module": "@jupyter-widgets/base",
     "model_module_version": "1.2.0",
     "model_name": "LayoutModel",
     "state": {
      "_model_module": "@jupyter-widgets/base",
      "_model_module_version": "1.2.0",
      "_model_name": "LayoutModel",
      "_view_count": null,
      "_view_module": "@jupyter-widgets/base",
      "_view_module_version": "1.2.0",
      "_view_name": "LayoutView",
      "align_content": null,
      "align_items": null,
      "align_self": null,
      "border": null,
      "bottom": null,
      "display": null,
      "flex": null,
      "flex_flow": null,
      "grid_area": null,
      "grid_auto_columns": null,
      "grid_auto_flow": null,
      "grid_auto_rows": null,
      "grid_column": null,
      "grid_gap": null,
      "grid_row": null,
      "grid_template_areas": null,
      "grid_template_columns": null,
      "grid_template_rows": null,
      "height": null,
      "justify_content": null,
      "justify_items": null,
      "left": null,
      "margin": null,
      "max_height": null,
      "max_width": null,
      "min_height": null,
      "min_width": null,
      "object_fit": null,
      "object_position": null,
      "order": null,
      "overflow": null,
      "overflow_x": null,
      "overflow_y": null,
      "padding": null,
      "right": null,
      "top": null,
      "visibility": null,
      "width": null
     }
    },
    "628957ac18cb4a4fb52a1a19befee021": {
     "model_module": "@jupyter-widgets/base",
     "model_module_version": "1.2.0",
     "model_name": "LayoutModel",
     "state": {
      "_model_module": "@jupyter-widgets/base",
      "_model_module_version": "1.2.0",
      "_model_name": "LayoutModel",
      "_view_count": null,
      "_view_module": "@jupyter-widgets/base",
      "_view_module_version": "1.2.0",
      "_view_name": "LayoutView",
      "align_content": null,
      "align_items": null,
      "align_self": null,
      "border": null,
      "bottom": null,
      "display": null,
      "flex": null,
      "flex_flow": null,
      "grid_area": null,
      "grid_auto_columns": null,
      "grid_auto_flow": null,
      "grid_auto_rows": null,
      "grid_column": null,
      "grid_gap": null,
      "grid_row": null,
      "grid_template_areas": null,
      "grid_template_columns": null,
      "grid_template_rows": null,
      "height": null,
      "justify_content": null,
      "justify_items": null,
      "left": null,
      "margin": null,
      "max_height": null,
      "max_width": null,
      "min_height": null,
      "min_width": null,
      "object_fit": null,
      "object_position": null,
      "order": null,
      "overflow": null,
      "overflow_x": null,
      "overflow_y": null,
      "padding": null,
      "right": null,
      "top": null,
      "visibility": null,
      "width": null
     }
    },
    "64c1479291654f1683b3af800b8d597c": {
     "model_module": "@jupyter-widgets/controls",
     "model_module_version": "1.5.0",
     "model_name": "ProgressStyleModel",
     "state": {
      "_model_module": "@jupyter-widgets/controls",
      "_model_module_version": "1.5.0",
      "_model_name": "ProgressStyleModel",
      "_view_count": null,
      "_view_module": "@jupyter-widgets/base",
      "_view_module_version": "1.2.0",
      "_view_name": "StyleView",
      "bar_color": null,
      "description_width": ""
     }
    },
    "6553250e2ac146638d76516fb4b0cc45": {
     "model_module": "@jupyter-widgets/controls",
     "model_module_version": "1.5.0",
     "model_name": "HTMLModel",
     "state": {
      "_dom_classes": [],
      "_model_module": "@jupyter-widgets/controls",
      "_model_module_version": "1.5.0",
      "_model_name": "HTMLModel",
      "_view_count": null,
      "_view_module": "@jupyter-widgets/controls",
      "_view_module_version": "1.5.0",
      "_view_name": "HTMLView",
      "description": "",
      "description_tooltip": null,
      "layout": "IPY_MODEL_c159fc38ab9645baacd0394f737e4aeb",
      "placeholder": "​",
      "style": "IPY_MODEL_c21f2af0992740fd81f4c612f6418e3e",
      "value": " 49.0/49.0 [00:00&lt;00:00, 4.45kB/s]"
     }
    },
    "6a7b839e6f014777b835bfc566e689ca": {
     "model_module": "@jupyter-widgets/controls",
     "model_module_version": "1.5.0",
     "model_name": "HTMLModel",
     "state": {
      "_dom_classes": [],
      "_model_module": "@jupyter-widgets/controls",
      "_model_module_version": "1.5.0",
      "_model_name": "HTMLModel",
      "_view_count": null,
      "_view_module": "@jupyter-widgets/controls",
      "_view_module_version": "1.5.0",
      "_view_name": "HTMLView",
      "description": "",
      "description_tooltip": null,
      "layout": "IPY_MODEL_df7cb2f9963b4cfdb389d6d523f763a3",
      "placeholder": "​",
      "style": "IPY_MODEL_ebc8b28c38604a5899e4ad6060d6bb47",
      "value": " 542M/542M [00:02&lt;00:00, 237MB/s]"
     }
    },
    "6c9353cebf034631911300e16b0a4f39": {
     "model_module": "@jupyter-widgets/controls",
     "model_module_version": "1.5.0",
     "model_name": "HTMLModel",
     "state": {
      "_dom_classes": [],
      "_model_module": "@jupyter-widgets/controls",
      "_model_module_version": "1.5.0",
      "_model_name": "HTMLModel",
      "_view_count": null,
      "_view_module": "@jupyter-widgets/controls",
      "_view_module_version": "1.5.0",
      "_view_name": "HTMLView",
      "description": "",
      "description_tooltip": null,
      "layout": "IPY_MODEL_8d3e338268eb4a7d9be3b3037b1e80f0",
      "placeholder": "​",
      "style": "IPY_MODEL_3cdf6c2e2f3a4369951cbe82f49a4e77",
      "value": "tokenizer_config.json: 100%"
     }
    },
    "7766ce9d989d4b5db379899c9de65414": {
     "model_module": "@jupyter-widgets/controls",
     "model_module_version": "1.5.0",
     "model_name": "ProgressStyleModel",
     "state": {
      "_model_module": "@jupyter-widgets/controls",
      "_model_module_version": "1.5.0",
      "_model_name": "ProgressStyleModel",
      "_view_count": null,
      "_view_module": "@jupyter-widgets/base",
      "_view_module_version": "1.2.0",
      "_view_name": "StyleView",
      "bar_color": null,
      "description_width": ""
     }
    },
    "7bbcabe4318644c492df53b084b96e80": {
     "model_module": "@jupyter-widgets/controls",
     "model_module_version": "1.5.0",
     "model_name": "HTMLModel",
     "state": {
      "_dom_classes": [],
      "_model_module": "@jupyter-widgets/controls",
      "_model_module_version": "1.5.0",
      "_model_name": "HTMLModel",
      "_view_count": null,
      "_view_module": "@jupyter-widgets/controls",
      "_view_module_version": "1.5.0",
      "_view_name": "HTMLView",
      "description": "",
      "description_tooltip": null,
      "layout": "IPY_MODEL_2d94bd8dea1b4b45957fdf4991d03fc1",
      "placeholder": "​",
      "style": "IPY_MODEL_7bcf8f0d9c4c489d871e42f49d57f25f",
      "value": "model.safetensors: 100%"
     }
    },
    "7bcf8f0d9c4c489d871e42f49d57f25f": {
     "model_module": "@jupyter-widgets/controls",
     "model_module_version": "1.5.0",
     "model_name": "DescriptionStyleModel",
     "state": {
      "_model_module": "@jupyter-widgets/controls",
      "_model_module_version": "1.5.0",
      "_model_name": "DescriptionStyleModel",
      "_view_count": null,
      "_view_module": "@jupyter-widgets/base",
      "_view_module_version": "1.2.0",
      "_view_name": "StyleView",
      "description_width": ""
     }
    },
    "7db9f137caae4c3e9f003616e00034ee": {
     "model_module": "@jupyter-widgets/controls",
     "model_module_version": "1.5.0",
     "model_name": "HBoxModel",
     "state": {
      "_dom_classes": [],
      "_model_module": "@jupyter-widgets/controls",
      "_model_module_version": "1.5.0",
      "_model_name": "HBoxModel",
      "_view_count": null,
      "_view_module": "@jupyter-widgets/controls",
      "_view_module_version": "1.5.0",
      "_view_name": "HBoxView",
      "box_style": "",
      "children": [
       "IPY_MODEL_50e2c9884923464491e4e9bddeba82ee",
       "IPY_MODEL_815c320f3cf94ee99228a02c42220ca9",
       "IPY_MODEL_57615508e0e24f8f841a6d72b7263955"
      ],
      "layout": "IPY_MODEL_e928788460cc46c5b0c2591cfa139fcb"
     }
    },
    "815c320f3cf94ee99228a02c42220ca9": {
     "model_module": "@jupyter-widgets/controls",
     "model_module_version": "1.5.0",
     "model_name": "FloatProgressModel",
     "state": {
      "_dom_classes": [],
      "_model_module": "@jupyter-widgets/controls",
      "_model_module_version": "1.5.0",
      "_model_name": "FloatProgressModel",
      "_view_count": null,
      "_view_module": "@jupyter-widgets/controls",
      "_view_module_version": "1.5.0",
      "_view_name": "ProgressView",
      "bar_style": "success",
      "description": "",
      "description_tooltip": null,
      "layout": "IPY_MODEL_9b15f63ba9c84aac97aefd7773569f28",
      "max": 995526,
      "min": 0,
      "orientation": "horizontal",
      "style": "IPY_MODEL_f3aa8c797a624c1f90dc234f9024c99b",
      "value": 995526
     }
    },
    "878765a520c5470fa8f30944ec92e814": {
     "model_module": "@jupyter-widgets/controls",
     "model_module_version": "1.5.0",
     "model_name": "DescriptionStyleModel",
     "state": {
      "_model_module": "@jupyter-widgets/controls",
      "_model_module_version": "1.5.0",
      "_model_name": "DescriptionStyleModel",
      "_view_count": null,
      "_view_module": "@jupyter-widgets/base",
      "_view_module_version": "1.2.0",
      "_view_name": "StyleView",
      "description_width": ""
     }
    },
    "8d3e338268eb4a7d9be3b3037b1e80f0": {
     "model_module": "@jupyter-widgets/base",
     "model_module_version": "1.2.0",
     "model_name": "LayoutModel",
     "state": {
      "_model_module": "@jupyter-widgets/base",
      "_model_module_version": "1.2.0",
      "_model_name": "LayoutModel",
      "_view_count": null,
      "_view_module": "@jupyter-widgets/base",
      "_view_module_version": "1.2.0",
      "_view_name": "LayoutView",
      "align_content": null,
      "align_items": null,
      "align_self": null,
      "border": null,
      "bottom": null,
      "display": null,
      "flex": null,
      "flex_flow": null,
      "grid_area": null,
      "grid_auto_columns": null,
      "grid_auto_flow": null,
      "grid_auto_rows": null,
      "grid_column": null,
      "grid_gap": null,
      "grid_row": null,
      "grid_template_areas": null,
      "grid_template_columns": null,
      "grid_template_rows": null,
      "height": null,
      "justify_content": null,
      "justify_items": null,
      "left": null,
      "margin": null,
      "max_height": null,
      "max_width": null,
      "min_height": null,
      "min_width": null,
      "object_fit": null,
      "object_position": null,
      "order": null,
      "overflow": null,
      "overflow_x": null,
      "overflow_y": null,
      "padding": null,
      "right": null,
      "top": null,
      "visibility": null,
      "width": null
     }
    },
    "902009af9d794f90ad8d566ed64629e8": {
     "model_module": "@jupyter-widgets/controls",
     "model_module_version": "1.5.0",
     "model_name": "HBoxModel",
     "state": {
      "_dom_classes": [],
      "_model_module": "@jupyter-widgets/controls",
      "_model_module_version": "1.5.0",
      "_model_name": "HBoxModel",
      "_view_count": null,
      "_view_module": "@jupyter-widgets/controls",
      "_view_module_version": "1.5.0",
      "_view_name": "HBoxView",
      "box_style": "",
      "children": [
       "IPY_MODEL_d79e8966736f4ac794dac2116fc0d902",
       "IPY_MODEL_104d5e0fe58d456089f9c4bca0a7be08",
       "IPY_MODEL_b6c4b3b25b2f439691108e1f4da588b1"
      ],
      "layout": "IPY_MODEL_de8b6585fbd4484c81f11bc74320036a"
     }
    },
    "9b15f63ba9c84aac97aefd7773569f28": {
     "model_module": "@jupyter-widgets/base",
     "model_module_version": "1.2.0",
     "model_name": "LayoutModel",
     "state": {
      "_model_module": "@jupyter-widgets/base",
      "_model_module_version": "1.2.0",
      "_model_name": "LayoutModel",
      "_view_count": null,
      "_view_module": "@jupyter-widgets/base",
      "_view_module_version": "1.2.0",
      "_view_name": "LayoutView",
      "align_content": null,
      "align_items": null,
      "align_self": null,
      "border": null,
      "bottom": null,
      "display": null,
      "flex": null,
      "flex_flow": null,
      "grid_area": null,
      "grid_auto_columns": null,
      "grid_auto_flow": null,
      "grid_auto_rows": null,
      "grid_column": null,
      "grid_gap": null,
      "grid_row": null,
      "grid_template_areas": null,
      "grid_template_columns": null,
      "grid_template_rows": null,
      "height": null,
      "justify_content": null,
      "justify_items": null,
      "left": null,
      "margin": null,
      "max_height": null,
      "max_width": null,
      "min_height": null,
      "min_width": null,
      "object_fit": null,
      "object_position": null,
      "order": null,
      "overflow": null,
      "overflow_x": null,
      "overflow_y": null,
      "padding": null,
      "right": null,
      "top": null,
      "visibility": null,
      "width": null
     }
    },
    "9f826e20cf1c448281bbfde5018c7eb7": {
     "model_module": "@jupyter-widgets/base",
     "model_module_version": "1.2.0",
     "model_name": "LayoutModel",
     "state": {
      "_model_module": "@jupyter-widgets/base",
      "_model_module_version": "1.2.0",
      "_model_name": "LayoutModel",
      "_view_count": null,
      "_view_module": "@jupyter-widgets/base",
      "_view_module_version": "1.2.0",
      "_view_name": "LayoutView",
      "align_content": null,
      "align_items": null,
      "align_self": null,
      "border": null,
      "bottom": null,
      "display": null,
      "flex": null,
      "flex_flow": null,
      "grid_area": null,
      "grid_auto_columns": null,
      "grid_auto_flow": null,
      "grid_auto_rows": null,
      "grid_column": null,
      "grid_gap": null,
      "grid_row": null,
      "grid_template_areas": null,
      "grid_template_columns": null,
      "grid_template_rows": null,
      "height": null,
      "justify_content": null,
      "justify_items": null,
      "left": null,
      "margin": null,
      "max_height": null,
      "max_width": null,
      "min_height": null,
      "min_width": null,
      "object_fit": null,
      "object_position": null,
      "order": null,
      "overflow": null,
      "overflow_x": null,
      "overflow_y": null,
      "padding": null,
      "right": null,
      "top": null,
      "visibility": null,
      "width": null
     }
    },
    "a9c57f13a9e6469498e157397e9ed16c": {
     "model_module": "@jupyter-widgets/base",
     "model_module_version": "1.2.0",
     "model_name": "LayoutModel",
     "state": {
      "_model_module": "@jupyter-widgets/base",
      "_model_module_version": "1.2.0",
      "_model_name": "LayoutModel",
      "_view_count": null,
      "_view_module": "@jupyter-widgets/base",
      "_view_module_version": "1.2.0",
      "_view_name": "LayoutView",
      "align_content": null,
      "align_items": null,
      "align_self": null,
      "border": null,
      "bottom": null,
      "display": null,
      "flex": null,
      "flex_flow": null,
      "grid_area": null,
      "grid_auto_columns": null,
      "grid_auto_flow": null,
      "grid_auto_rows": null,
      "grid_column": null,
      "grid_gap": null,
      "grid_row": null,
      "grid_template_areas": null,
      "grid_template_columns": null,
      "grid_template_rows": null,
      "height": null,
      "justify_content": null,
      "justify_items": null,
      "left": null,
      "margin": null,
      "max_height": null,
      "max_width": null,
      "min_height": null,
      "min_width": null,
      "object_fit": null,
      "object_position": null,
      "order": null,
      "overflow": null,
      "overflow_x": null,
      "overflow_y": null,
      "padding": null,
      "right": null,
      "top": null,
      "visibility": null,
      "width": null
     }
    },
    "b6c4b3b25b2f439691108e1f4da588b1": {
     "model_module": "@jupyter-widgets/controls",
     "model_module_version": "1.5.0",
     "model_name": "HTMLModel",
     "state": {
      "_dom_classes": [],
      "_model_module": "@jupyter-widgets/controls",
      "_model_module_version": "1.5.0",
      "_model_name": "HTMLModel",
      "_view_count": null,
      "_view_module": "@jupyter-widgets/controls",
      "_view_module_version": "1.5.0",
      "_view_name": "HTMLView",
      "description": "",
      "description_tooltip": null,
      "layout": "IPY_MODEL_ecd8da63e4094434bd242cd71f79b113",
      "placeholder": "​",
      "style": "IPY_MODEL_c2fbc10fa1554aab95248ed50bd4d81f",
      "value": " 1.96M/1.96M [00:00&lt;00:00, 8.91MB/s]"
     }
    },
    "b8134263cbe2471182ce0f255d617703": {
     "model_module": "@jupyter-widgets/base",
     "model_module_version": "1.2.0",
     "model_name": "LayoutModel",
     "state": {
      "_model_module": "@jupyter-widgets/base",
      "_model_module_version": "1.2.0",
      "_model_name": "LayoutModel",
      "_view_count": null,
      "_view_module": "@jupyter-widgets/base",
      "_view_module_version": "1.2.0",
      "_view_name": "LayoutView",
      "align_content": null,
      "align_items": null,
      "align_self": null,
      "border": null,
      "bottom": null,
      "display": null,
      "flex": null,
      "flex_flow": null,
      "grid_area": null,
      "grid_auto_columns": null,
      "grid_auto_flow": null,
      "grid_auto_rows": null,
      "grid_column": null,
      "grid_gap": null,
      "grid_row": null,
      "grid_template_areas": null,
      "grid_template_columns": null,
      "grid_template_rows": null,
      "height": null,
      "justify_content": null,
      "justify_items": null,
      "left": null,
      "margin": null,
      "max_height": null,
      "max_width": null,
      "min_height": null,
      "min_width": null,
      "object_fit": null,
      "object_position": null,
      "order": null,
      "overflow": null,
      "overflow_x": null,
      "overflow_y": null,
      "padding": null,
      "right": null,
      "top": null,
      "visibility": null,
      "width": null
     }
    },
    "c159fc38ab9645baacd0394f737e4aeb": {
     "model_module": "@jupyter-widgets/base",
     "model_module_version": "1.2.0",
     "model_name": "LayoutModel",
     "state": {
      "_model_module": "@jupyter-widgets/base",
      "_model_module_version": "1.2.0",
      "_model_name": "LayoutModel",
      "_view_count": null,
      "_view_module": "@jupyter-widgets/base",
      "_view_module_version": "1.2.0",
      "_view_name": "LayoutView",
      "align_content": null,
      "align_items": null,
      "align_self": null,
      "border": null,
      "bottom": null,
      "display": null,
      "flex": null,
      "flex_flow": null,
      "grid_area": null,
      "grid_auto_columns": null,
      "grid_auto_flow": null,
      "grid_auto_rows": null,
      "grid_column": null,
      "grid_gap": null,
      "grid_row": null,
      "grid_template_areas": null,
      "grid_template_columns": null,
      "grid_template_rows": null,
      "height": null,
      "justify_content": null,
      "justify_items": null,
      "left": null,
      "margin": null,
      "max_height": null,
      "max_width": null,
      "min_height": null,
      "min_width": null,
      "object_fit": null,
      "object_position": null,
      "order": null,
      "overflow": null,
      "overflow_x": null,
      "overflow_y": null,
      "padding": null,
      "right": null,
      "top": null,
      "visibility": null,
      "width": null
     }
    },
    "c21f2af0992740fd81f4c612f6418e3e": {
     "model_module": "@jupyter-widgets/controls",
     "model_module_version": "1.5.0",
     "model_name": "DescriptionStyleModel",
     "state": {
      "_model_module": "@jupyter-widgets/controls",
      "_model_module_version": "1.5.0",
      "_model_name": "DescriptionStyleModel",
      "_view_count": null,
      "_view_module": "@jupyter-widgets/base",
      "_view_module_version": "1.2.0",
      "_view_name": "StyleView",
      "description_width": ""
     }
    },
    "c2fbc10fa1554aab95248ed50bd4d81f": {
     "model_module": "@jupyter-widgets/controls",
     "model_module_version": "1.5.0",
     "model_name": "DescriptionStyleModel",
     "state": {
      "_model_module": "@jupyter-widgets/controls",
      "_model_module_version": "1.5.0",
      "_model_name": "DescriptionStyleModel",
      "_view_count": null,
      "_view_module": "@jupyter-widgets/base",
      "_view_module_version": "1.2.0",
      "_view_name": "StyleView",
      "description_width": ""
     }
    },
    "c35b197beb7f4aabbb7d748fcfb288ad": {
     "model_module": "@jupyter-widgets/controls",
     "model_module_version": "1.5.0",
     "model_name": "HBoxModel",
     "state": {
      "_dom_classes": [],
      "_model_module": "@jupyter-widgets/controls",
      "_model_module_version": "1.5.0",
      "_model_name": "HBoxModel",
      "_view_count": null,
      "_view_module": "@jupyter-widgets/controls",
      "_view_module_version": "1.5.0",
      "_view_name": "HBoxView",
      "box_style": "",
      "children": [
       "IPY_MODEL_6c9353cebf034631911300e16b0a4f39",
       "IPY_MODEL_3804b327d11743e5ba0cadf6aa47d2a3",
       "IPY_MODEL_6553250e2ac146638d76516fb4b0cc45"
      ],
      "layout": "IPY_MODEL_5c6fe42616f54c578e3ade0f7d469c11"
     }
    },
    "c7b8d85ce9094e6bbeb8f61aa38ad164": {
     "model_module": "@jupyter-widgets/controls",
     "model_module_version": "1.5.0",
     "model_name": "FloatProgressModel",
     "state": {
      "_dom_classes": [],
      "_model_module": "@jupyter-widgets/controls",
      "_model_module_version": "1.5.0",
      "_model_name": "FloatProgressModel",
      "_view_count": null,
      "_view_module": "@jupyter-widgets/controls",
      "_view_module_version": "1.5.0",
      "_view_name": "ProgressView",
      "bar_style": "success",
      "description": "",
      "description_tooltip": null,
      "layout": "IPY_MODEL_133d54e464fc4a87bfc7e788f38d05f6",
      "max": 466,
      "min": 0,
      "orientation": "horizontal",
      "style": "IPY_MODEL_f67ac968b7ba4882a3e645aea7ea4a0d",
      "value": 466
     }
    },
    "c8f828a3d6ee46c1a4af393283a6c8d5": {
     "model_module": "@jupyter-widgets/base",
     "model_module_version": "1.2.0",
     "model_name": "LayoutModel",
     "state": {
      "_model_module": "@jupyter-widgets/base",
      "_model_module_version": "1.2.0",
      "_model_name": "LayoutModel",
      "_view_count": null,
      "_view_module": "@jupyter-widgets/base",
      "_view_module_version": "1.2.0",
      "_view_name": "LayoutView",
      "align_content": null,
      "align_items": null,
      "align_self": null,
      "border": null,
      "bottom": null,
      "display": null,
      "flex": null,
      "flex_flow": null,
      "grid_area": null,
      "grid_auto_columns": null,
      "grid_auto_flow": null,
      "grid_auto_rows": null,
      "grid_column": null,
      "grid_gap": null,
      "grid_row": null,
      "grid_template_areas": null,
      "grid_template_columns": null,
      "grid_template_rows": null,
      "height": null,
      "justify_content": null,
      "justify_items": null,
      "left": null,
      "margin": null,
      "max_height": null,
      "max_width": null,
      "min_height": null,
      "min_width": null,
      "object_fit": null,
      "object_position": null,
      "order": null,
      "overflow": null,
      "overflow_x": null,
      "overflow_y": null,
      "padding": null,
      "right": null,
      "top": null,
      "visibility": null,
      "width": null
     }
    },
    "ceedceaaf29b4144b50ab387fae1d273": {
     "model_module": "@jupyter-widgets/base",
     "model_module_version": "1.2.0",
     "model_name": "LayoutModel",
     "state": {
      "_model_module": "@jupyter-widgets/base",
      "_model_module_version": "1.2.0",
      "_model_name": "LayoutModel",
      "_view_count": null,
      "_view_module": "@jupyter-widgets/base",
      "_view_module_version": "1.2.0",
      "_view_name": "LayoutView",
      "align_content": null,
      "align_items": null,
      "align_self": null,
      "border": null,
      "bottom": null,
      "display": null,
      "flex": null,
      "flex_flow": null,
      "grid_area": null,
      "grid_auto_columns": null,
      "grid_auto_flow": null,
      "grid_auto_rows": null,
      "grid_column": null,
      "grid_gap": null,
      "grid_row": null,
      "grid_template_areas": null,
      "grid_template_columns": null,
      "grid_template_rows": null,
      "height": null,
      "justify_content": null,
      "justify_items": null,
      "left": null,
      "margin": null,
      "max_height": null,
      "max_width": null,
      "min_height": null,
      "min_width": null,
      "object_fit": null,
      "object_position": null,
      "order": null,
      "overflow": null,
      "overflow_x": null,
      "overflow_y": null,
      "padding": null,
      "right": null,
      "top": null,
      "visibility": null,
      "width": null
     }
    },
    "d79e8966736f4ac794dac2116fc0d902": {
     "model_module": "@jupyter-widgets/controls",
     "model_module_version": "1.5.0",
     "model_name": "HTMLModel",
     "state": {
      "_dom_classes": [],
      "_model_module": "@jupyter-widgets/controls",
      "_model_module_version": "1.5.0",
      "_model_name": "HTMLModel",
      "_view_count": null,
      "_view_module": "@jupyter-widgets/controls",
      "_view_module_version": "1.5.0",
      "_view_name": "HTMLView",
      "description": "",
      "description_tooltip": null,
      "layout": "IPY_MODEL_9f826e20cf1c448281bbfde5018c7eb7",
      "placeholder": "​",
      "style": "IPY_MODEL_3c1110dd163e4395a644b8d2e75e4c29",
      "value": "tokenizer.json: 100%"
     }
    },
    "de8b6585fbd4484c81f11bc74320036a": {
     "model_module": "@jupyter-widgets/base",
     "model_module_version": "1.2.0",
     "model_name": "LayoutModel",
     "state": {
      "_model_module": "@jupyter-widgets/base",
      "_model_module_version": "1.2.0",
      "_model_name": "LayoutModel",
      "_view_count": null,
      "_view_module": "@jupyter-widgets/base",
      "_view_module_version": "1.2.0",
      "_view_name": "LayoutView",
      "align_content": null,
      "align_items": null,
      "align_self": null,
      "border": null,
      "bottom": null,
      "display": null,
      "flex": null,
      "flex_flow": null,
      "grid_area": null,
      "grid_auto_columns": null,
      "grid_auto_flow": null,
      "grid_auto_rows": null,
      "grid_column": null,
      "grid_gap": null,
      "grid_row": null,
      "grid_template_areas": null,
      "grid_template_columns": null,
      "grid_template_rows": null,
      "height": null,
      "justify_content": null,
      "justify_items": null,
      "left": null,
      "margin": null,
      "max_height": null,
      "max_width": null,
      "min_height": null,
      "min_width": null,
      "object_fit": null,
      "object_position": null,
      "order": null,
      "overflow": null,
      "overflow_x": null,
      "overflow_y": null,
      "padding": null,
      "right": null,
      "top": null,
      "visibility": null,
      "width": null
     }
    },
    "df7cb2f9963b4cfdb389d6d523f763a3": {
     "model_module": "@jupyter-widgets/base",
     "model_module_version": "1.2.0",
     "model_name": "LayoutModel",
     "state": {
      "_model_module": "@jupyter-widgets/base",
      "_model_module_version": "1.2.0",
      "_model_name": "LayoutModel",
      "_view_count": null,
      "_view_module": "@jupyter-widgets/base",
      "_view_module_version": "1.2.0",
      "_view_name": "LayoutView",
      "align_content": null,
      "align_items": null,
      "align_self": null,
      "border": null,
      "bottom": null,
      "display": null,
      "flex": null,
      "flex_flow": null,
      "grid_area": null,
      "grid_auto_columns": null,
      "grid_auto_flow": null,
      "grid_auto_rows": null,
      "grid_column": null,
      "grid_gap": null,
      "grid_row": null,
      "grid_template_areas": null,
      "grid_template_columns": null,
      "grid_template_rows": null,
      "height": null,
      "justify_content": null,
      "justify_items": null,
      "left": null,
      "margin": null,
      "max_height": null,
      "max_width": null,
      "min_height": null,
      "min_width": null,
      "object_fit": null,
      "object_position": null,
      "order": null,
      "overflow": null,
      "overflow_x": null,
      "overflow_y": null,
      "padding": null,
      "right": null,
      "top": null,
      "visibility": null,
      "width": null
     }
    },
    "e5bebcc16cdf4dcc8170071d2e1ae8f2": {
     "model_module": "@jupyter-widgets/base",
     "model_module_version": "1.2.0",
     "model_name": "LayoutModel",
     "state": {
      "_model_module": "@jupyter-widgets/base",
      "_model_module_version": "1.2.0",
      "_model_name": "LayoutModel",
      "_view_count": null,
      "_view_module": "@jupyter-widgets/base",
      "_view_module_version": "1.2.0",
      "_view_name": "LayoutView",
      "align_content": null,
      "align_items": null,
      "align_self": null,
      "border": null,
      "bottom": null,
      "display": null,
      "flex": null,
      "flex_flow": null,
      "grid_area": null,
      "grid_auto_columns": null,
      "grid_auto_flow": null,
      "grid_auto_rows": null,
      "grid_column": null,
      "grid_gap": null,
      "grid_row": null,
      "grid_template_areas": null,
      "grid_template_columns": null,
      "grid_template_rows": null,
      "height": null,
      "justify_content": null,
      "justify_items": null,
      "left": null,
      "margin": null,
      "max_height": null,
      "max_width": null,
      "min_height": null,
      "min_width": null,
      "object_fit": null,
      "object_position": null,
      "order": null,
      "overflow": null,
      "overflow_x": null,
      "overflow_y": null,
      "padding": null,
      "right": null,
      "top": null,
      "visibility": null,
      "width": null
     }
    },
    "e92368cac8664c408bd5115ed8f67d74": {
     "model_module": "@jupyter-widgets/controls",
     "model_module_version": "1.5.0",
     "model_name": "DescriptionStyleModel",
     "state": {
      "_model_module": "@jupyter-widgets/controls",
      "_model_module_version": "1.5.0",
      "_model_name": "DescriptionStyleModel",
      "_view_count": null,
      "_view_module": "@jupyter-widgets/base",
      "_view_module_version": "1.2.0",
      "_view_name": "StyleView",
      "description_width": ""
     }
    },
    "e928788460cc46c5b0c2591cfa139fcb": {
     "model_module": "@jupyter-widgets/base",
     "model_module_version": "1.2.0",
     "model_name": "LayoutModel",
     "state": {
      "_model_module": "@jupyter-widgets/base",
      "_model_module_version": "1.2.0",
      "_model_name": "LayoutModel",
      "_view_count": null,
      "_view_module": "@jupyter-widgets/base",
      "_view_module_version": "1.2.0",
      "_view_name": "LayoutView",
      "align_content": null,
      "align_items": null,
      "align_self": null,
      "border": null,
      "bottom": null,
      "display": null,
      "flex": null,
      "flex_flow": null,
      "grid_area": null,
      "grid_auto_columns": null,
      "grid_auto_flow": null,
      "grid_auto_rows": null,
      "grid_column": null,
      "grid_gap": null,
      "grid_row": null,
      "grid_template_areas": null,
      "grid_template_columns": null,
      "grid_template_rows": null,
      "height": null,
      "justify_content": null,
      "justify_items": null,
      "left": null,
      "margin": null,
      "max_height": null,
      "max_width": null,
      "min_height": null,
      "min_width": null,
      "object_fit": null,
      "object_position": null,
      "order": null,
      "overflow": null,
      "overflow_x": null,
      "overflow_y": null,
      "padding": null,
      "right": null,
      "top": null,
      "visibility": null,
      "width": null
     }
    },
    "ebc8b28c38604a5899e4ad6060d6bb47": {
     "model_module": "@jupyter-widgets/controls",
     "model_module_version": "1.5.0",
     "model_name": "DescriptionStyleModel",
     "state": {
      "_model_module": "@jupyter-widgets/controls",
      "_model_module_version": "1.5.0",
      "_model_name": "DescriptionStyleModel",
      "_view_count": null,
      "_view_module": "@jupyter-widgets/base",
      "_view_module_version": "1.2.0",
      "_view_name": "StyleView",
      "description_width": ""
     }
    },
    "ecab1014ee3f4a9c86760931cf3225a5": {
     "model_module": "@jupyter-widgets/controls",
     "model_module_version": "1.5.0",
     "model_name": "HBoxModel",
     "state": {
      "_dom_classes": [],
      "_model_module": "@jupyter-widgets/controls",
      "_model_module_version": "1.5.0",
      "_model_name": "HBoxModel",
      "_view_count": null,
      "_view_module": "@jupyter-widgets/controls",
      "_view_module_version": "1.5.0",
      "_view_name": "HBoxView",
      "box_style": "",
      "children": [
       "IPY_MODEL_7bbcabe4318644c492df53b084b96e80",
       "IPY_MODEL_1cb41256a929409794cf9a591b5143c7",
       "IPY_MODEL_6a7b839e6f014777b835bfc566e689ca"
      ],
      "layout": "IPY_MODEL_023fc301c07f4b619dba2904b5d4fd6a"
     }
    },
    "ecd8da63e4094434bd242cd71f79b113": {
     "model_module": "@jupyter-widgets/base",
     "model_module_version": "1.2.0",
     "model_name": "LayoutModel",
     "state": {
      "_model_module": "@jupyter-widgets/base",
      "_model_module_version": "1.2.0",
      "_model_name": "LayoutModel",
      "_view_count": null,
      "_view_module": "@jupyter-widgets/base",
      "_view_module_version": "1.2.0",
      "_view_name": "LayoutView",
      "align_content": null,
      "align_items": null,
      "align_self": null,
      "border": null,
      "bottom": null,
      "display": null,
      "flex": null,
      "flex_flow": null,
      "grid_area": null,
      "grid_auto_columns": null,
      "grid_auto_flow": null,
      "grid_auto_rows": null,
      "grid_column": null,
      "grid_gap": null,
      "grid_row": null,
      "grid_template_areas": null,
      "grid_template_columns": null,
      "grid_template_rows": null,
      "height": null,
      "justify_content": null,
      "justify_items": null,
      "left": null,
      "margin": null,
      "max_height": null,
      "max_width": null,
      "min_height": null,
      "min_width": null,
      "object_fit": null,
      "object_position": null,
      "order": null,
      "overflow": null,
      "overflow_x": null,
      "overflow_y": null,
      "padding": null,
      "right": null,
      "top": null,
      "visibility": null,
      "width": null
     }
    },
    "f3aa8c797a624c1f90dc234f9024c99b": {
     "model_module": "@jupyter-widgets/controls",
     "model_module_version": "1.5.0",
     "model_name": "ProgressStyleModel",
     "state": {
      "_model_module": "@jupyter-widgets/controls",
      "_model_module_version": "1.5.0",
      "_model_name": "ProgressStyleModel",
      "_view_count": null,
      "_view_module": "@jupyter-widgets/base",
      "_view_module_version": "1.2.0",
      "_view_name": "StyleView",
      "bar_color": null,
      "description_width": ""
     }
    },
    "f67ac968b7ba4882a3e645aea7ea4a0d": {
     "model_module": "@jupyter-widgets/controls",
     "model_module_version": "1.5.0",
     "model_name": "ProgressStyleModel",
     "state": {
      "_model_module": "@jupyter-widgets/controls",
      "_model_module_version": "1.5.0",
      "_model_name": "ProgressStyleModel",
      "_view_count": null,
      "_view_module": "@jupyter-widgets/base",
      "_view_module_version": "1.2.0",
      "_view_name": "StyleView",
      "bar_color": null,
      "description_width": ""
     }
    }
   }
  }
 },
 "nbformat": 4,
 "nbformat_minor": 0
}
